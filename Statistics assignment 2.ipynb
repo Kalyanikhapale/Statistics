{
  "cells": [
    {
      "cell_type": "code",
      "source": [
        "'''Statistics'''"
      ],
      "metadata": {
        "id": "-bKFRgqI6qrg"
      },
      "execution_count": null,
      "outputs": []
    },
    {
      "cell_type": "code",
      "source": [
        "'''Q.1 Define the z-statistic and explain its relationship to the standard normal distribution. How is the z-statistic used in hypothesis testing'''"
      ],
      "metadata": {
        "id": "Jqx8OjHs78YE"
      },
      "execution_count": null,
      "outputs": []
    },
    {
      "cell_type": "markdown",
      "source": [
        "\n",
        "Definition:\n",
        "The z-statistic shows how many standard deviations a data point is from the population mean.\n",
        "\n",
        "Formula:\n",
        "\n",
        "z = (X - μ) / σ\n",
        "\n",
        "or\n",
        "\n",
        "z = (X̄ - μ) / (σ / √n)\n",
        "\n",
        "\n",
        "Relation to Standard Normal Distribution:\n",
        "\n",
        "●\tThe z-statistic follows the standard normal distribution (mean = 0, SD = 1).\n",
        "\n",
        "Use in Hypothesis Testing:\n",
        "\n",
        "●\tCalculate z-value from sample.\n",
        "\n",
        "●\tCompare with critical z-value (from z-table).\n",
        "\n",
        "●\tIf |z| > critical z → Reject H0H_0H0\n",
        "\n",
        "●\tIf |z| < critical z → Fail to reject H0H_0H0\n"
      ],
      "metadata": {
        "id": "rEBHaj5Q6w77"
      }
    },
    {
      "cell_type": "code",
      "source": [
        "'''Q.2 What is a p-value, and how is it used in hypothesis testing? What does it mean if the p-value is very small (e.g., 0.01)'''"
      ],
      "metadata": {
        "id": "Jb8Hft1P9j2W"
      },
      "execution_count": null,
      "outputs": []
    },
    {
      "cell_type": "markdown",
      "source": [
        "Definition:\n",
        "\n",
        "The p-value is the probability of getting the observed result (or more extreme) if the null hypothesis (H0H_0H0) is true.\n",
        "\n",
        "Use in Hypothesis Testing:\n",
        "\n",
        "●\tCompare p-value with significance level (α\\alphaα, e.g. 0.05).\n",
        "\n",
        "●\tIf p-value ≤ α\\alphaα → Reject H0H_0H0\n",
        "\n",
        "●\tIf p-value > α\\alphaα → Fail to reject H0H_0H0\n",
        "\n",
        "If p-value is very small (e.g. 0.01):\n",
        "\n",
        "●\tStrong evidence against H0H_0H0\n",
        "\n",
        "●\tMeans the result is statistically significant.\n",
        "\n",
        "A small p-value shows strong evidence to reject the null hypothesis.\n"
      ],
      "metadata": {
        "id": "1I3CLIio-GJE"
      }
    },
    {
      "cell_type": "code",
      "source": [
        "'''Q.3 Compare and contrast the binomial and Bernoulli distributions'''"
      ],
      "metadata": {
        "id": "Wntny82H-y-s"
      },
      "execution_count": null,
      "outputs": []
    },
    {
      "cell_type": "markdown",
      "source": [
        "Binomial vs. Bernoulli Distribution\n",
        "\n",
        "**Bernoulli Distribution**\n",
        "\n",
        "Definition: Single trial with two outcomes (Success/Failure)\n",
        "\n",
        "Number of Trials: 1\n",
        "\n",
        "Outcomes: Success (1) or Failure (0)\n",
        "\n",
        "Example: Tossing a coin once\n",
        "\n",
        "Mean: p\n",
        "\n",
        "Variance: p(1 - p)\n",
        "\n",
        "**Binomial Distribution**\n",
        "\n",
        "Definition: Multiple independent Bernoulli trials\n",
        "\n",
        "Number of Trials: n (fixed number of trials)\n",
        "\n",
        "Outcomes:\tNumber of successes in n trials\n",
        "\n",
        "Example: Tossing a coin 10 times\n",
        "\n",
        "Mean:\tn × p\n",
        "\n",
        "Variance:\tn × p × (1 - p)"
      ],
      "metadata": {
        "id": "9LwwWQgH_Mad"
      }
    },
    {
      "cell_type": "code",
      "source": [
        "'''Q.4 Under what conditions is the binomial distribution used, and how does it relate to the Bernoulli distribution'''"
      ],
      "metadata": {
        "id": "oAQ9J1HmBh7W"
      },
      "execution_count": null,
      "outputs": []
    },
    {
      "cell_type": "markdown",
      "source": [
        "Binomial Distribution: Conditions & Relation to Bernoulli\n",
        "\n",
        "Conditions to Use Binomial Distribution:\n",
        "1.\tFixed number of trials (n).\n",
        "2.\tEach trial has two outcomes: Success or Failure.\n",
        "3.\tProbability of success (p) is constant.\n",
        "4.\tTrials are independent.\n",
        "\n",
        "Relation to Bernoulli Distribution:\n",
        "\n",
        "●\tBinomial = Repeated Bernoulli Trials.\n",
        "\n",
        "●\tBernoulli is a special case of the binomial when n = 1\n",
        "\n",
        "In short:\n",
        "\n",
        "●\tBinomial: Many Bernoulli trials.\n",
        "\n",
        "●\tBernoulli: Single trial.\n",
        "\n",
        "●\tBinomial uses Bernoulli in each trial.\n"
      ],
      "metadata": {
        "id": "_Vh4yYHiBwud"
      }
    },
    {
      "cell_type": "code",
      "source": [
        "'''Q.5 What are the key properties of the Poisson distribution, and when is it appropriate to use this distribution'''"
      ],
      "metadata": {
        "id": "2xSt1kwUCVFG"
      },
      "execution_count": null,
      "outputs": []
    },
    {
      "cell_type": "markdown",
      "source": [
        "Poisson Distribution\n",
        "\n",
        "Key Properties:\n",
        "1.\tDiscrete distribution (counts events).\n",
        "2.\tEvents happen independently.\n",
        "3.\tEvents occur at a constant average rate (λ).\n",
        "4.\tProbability of multiple events in a very short time is almost zero.\n",
        "\n",
        "When to Use:\n",
        "\n",
        "●\tTo model the number of events in a fixed time or space.\n",
        "\n",
        "Examples:\n",
        "\n",
        "●\tNumber of calls at a call center per hour.\n",
        "\n",
        "●\tNumber of accidents on a road per day.\n",
        "\n",
        "In short:\n",
        "\n",
        "Use Poisson when counting rare, independent events over time or space.\n"
      ],
      "metadata": {
        "id": "QlbcxojtCfWF"
      }
    },
    {
      "cell_type": "code",
      "source": [
        "'''Q.6 Define the terms \"probability distribution\" and \"probability density function\" (PDF). How does a PDF differ from a probability mass function (PMF)?'''"
      ],
      "metadata": {
        "id": "GMeEkEVXC5mB"
      },
      "execution_count": null,
      "outputs": []
    },
    {
      "cell_type": "markdown",
      "source": [
        "**Probability Distribution:**\n",
        "\n",
        "●\tIt shows how probabilities are distributed over different outcomes of a random variable.\n",
        "\n",
        "Variable Type: Continuous random variable\n",
        "\n",
        "Probability at a Point: Probability at a single point is zero\n",
        "\n",
        "Example: Heights, weights\n",
        "\n",
        "**Probability Density Function (PDF):**\n",
        "\n",
        "●\tIt describes the probability distribution of a continuous random variable\n",
        "\n",
        "●\tThe total area under the PDF curve is 1.\n",
        "\n",
        "Variable Type: Discrete random variable\n",
        "\n",
        "Probability at a Point: Probability at a point is non-zero\n",
        "\n",
        "Example: Tossing a coin, rolling a die\n",
        "\n",
        "\n",
        "In short:\n",
        "\n",
        "●\tPDF → Continuous variables\n",
        "\n",
        "●\tPMF → Discrete variables\n"
      ],
      "metadata": {
        "id": "LHGLwad4DINL"
      }
    },
    {
      "cell_type": "code",
      "source": [
        "'''Q.7 Explain the Central Limit Theorem (CLT) with example.'''"
      ],
      "metadata": {
        "id": "U9rcjVipEcNx"
      },
      "execution_count": null,
      "outputs": []
    },
    {
      "cell_type": "markdown",
      "source": [
        "Central Limit Theorem (CLT)\n",
        "\n",
        "Definition:\n",
        "The Central Limit Theorem states that the sampling distribution of the sample mean will be approximately normal if the sample size is large, regardless of the population’s original distribution.\n",
        "\n",
        "Key Points:\n",
        "\n",
        "●\tWorks when sample size (n) is large (usually n ≥ 30).\n",
        "\n",
        "●\tThe mean of the sampling distribution = population mean (μ).\n",
        "\n",
        "●\tThe standard deviation = σ/√n.\n",
        "\n",
        "Example:\n",
        "\n",
        "If you take the average height of 30 students from different classes, the distribution of these sample averages will form a normal distribution, even if the original height data is not normal.\n",
        "\n",
        "In short:\n",
        "\n",
        "CLT says: Large samples → Sample mean follows normal distribution.\n"
      ],
      "metadata": {
        "id": "z8jmp6ouEwFw"
      }
    },
    {
      "cell_type": "code",
      "source": [
        "'''Q.8 Compare z-scores and t-scores. When should you use a z-score, and when should a t-score be applied instead'''"
      ],
      "metadata": {
        "id": "Dl5izAKFFU2i"
      },
      "execution_count": null,
      "outputs": []
    },
    {
      "cell_type": "markdown",
      "source": [
        "\n",
        "Z-Score\n",
        "When to Use: Population standard deviation (σ) is known\n",
        "\n",
        "Sample Size: Large samples (n > 30 )\n",
        "\n",
        "Distribution Type: Standard Normal Distribution\n",
        "\n",
        "T-Score\n",
        "\n",
        "When to Use: Population standard deviation (σ) is unknown\n",
        "\n",
        "Sample Size: Small samples (n ≤ 30)\n",
        "\n",
        "Distribution Type: t-Distribution (wider tails)\n",
        "\n",
        "In Short:\n",
        "\n",
        "●\tUse Z-Score: When σ is known and sample size is large.\n",
        "\n",
        "●\tUse T-Score: When σ is unknown and sample size is small.\n",
        "\n"
      ],
      "metadata": {
        "id": "hptgmbM0FgA1"
      }
    },
    {
      "cell_type": "code",
      "source": [
        "'''Q.9 Given a sample mean of 105, a population mean of 100, a standard deviation of 15, and a sample size of 25, calculate the z-score and p-value. Based on a significance level of 0.05, do you reject or fail to reject the null hypothesis? Task: Write Python code to calculate the z-score and p-value for the given data. Objective: Apply the formula for the z-score and interpret the p-value for hypothesis testing'''"
      ],
      "metadata": {
        "id": "gEkHmjzDGm0_"
      },
      "execution_count": null,
      "outputs": []
    },
    {
      "cell_type": "code",
      "source": [
        "import scipy.stats as stats\n",
        "\n",
        "#Given data\n",
        "sample_mean = 105\n",
        "population_mean = 100\n",
        "std_dev = 15\n",
        "sample_size = 25\n",
        "alpha = 0.05 #significance level\n",
        "\n",
        "#Calculate z-score\n",
        "z_score = (sample_mean - population_mean) / (std_dev / (sample_size **0.5))\n",
        "\n",
        "#Calculate p-value (two-tailed test)\n",
        "p_value = 2*(1-stats.norm.cdf(abs(z_score)))\n",
        "\n",
        "#Decision\n",
        "\n",
        "if p_value < alpha:\n",
        "    decision = \"Reject the null hypothesis\"\n",
        "\n",
        "else:\n",
        "    decision = \"Fail to reject the null hypothesis\"\n",
        "\n",
        "#Display results\n",
        "print(f\"Z-score: {z_score}\")\n",
        "print(f\"P-value: {p_value}\")\n",
        "print(f\"Decision: {decision}\")"
      ],
      "metadata": {
        "id": "9h6cHjiMHka3",
        "outputId": "38b4c586-c34b-4670-9f65-77409c35dfe8",
        "colab": {
          "base_uri": "https://localhost:8080/"
        }
      },
      "execution_count": 2,
      "outputs": [
        {
          "output_type": "stream",
          "name": "stdout",
          "text": [
            "Z-score: 1.6666666666666667\n",
            "P-value: 0.09558070454562939\n",
            "Decision: Fail to reject the null hypothesis\n"
          ]
        }
      ]
    },
    {
      "cell_type": "markdown",
      "source": [
        "Explanation:\n",
        "\n",
        "●\tZ-Score Formula:\n",
        "\n",
        "\n",
        "\n",
        "\n",
        "●\tP-Value:\n",
        "\n",
        "Using Python, p-value ≈ 0.095.\n",
        "\n",
        "●\tDecision:\n",
        "\n",
        "Since p-value > 0.05, we fail to reject the null hypothesis.\n",
        "\n",
        "●\tZ-Score ≈ 1.67\n",
        "\n",
        "●\tP-Value ≈ 0.095\n",
        "\n",
        "●\tConclusion: Fail to reject H0H_0H0 at 0.05 significance level.\n"
      ],
      "metadata": {
        "id": "_uEyvuHHJ5Mh"
      }
    },
    {
      "cell_type": "code",
      "source": [
        "'''Q.10 Simulate a binomial distribution with 10 trials and a probability of success of 0.6 using Python. Generate 1,000 samples and plot the distribution. What is the expected mean and variance? Task: Use Python to generate the data, plot the distribution, and calculate the mean and variance. Objective: Understand the properties of a binomial distribution and verify them through simulation'''"
      ],
      "metadata": {
        "id": "hHVZ_DQYKUux"
      },
      "execution_count": null,
      "outputs": []
    },
    {
      "cell_type": "code",
      "source": [
        "import numpy as np\n",
        "import matplotlib.pyplot as plt\n",
        "\n",
        "#Given data\n",
        "n = 10          #number of trials\n",
        "p = 0.6         #probability of success\n",
        "samples = 1000  #number of samples\n",
        "\n",
        "#Simulate binomial distribution\n",
        "data = np.random.binomial(n,p,samples)\n",
        "\n",
        "#calculate mean and variance\n",
        "mean = np.mean(data)\n",
        "variance = np.var(data)\n",
        "\n",
        "#Plot the distribution\n",
        "plt.hist (data, bins=range(n+2), edgecolor=\"black\", align='left')\n",
        "plt.title('Binomial Distribution (n=10, p = 0.6 )' )\n",
        "plt.xlabel('Number of Successes')\n",
        "plt.ylabel('Frequency')\n",
        "plt.xticks(range(n+1))\n",
        "plt.grid(axis='y')\n",
        "plt.show()\n",
        "\n",
        "#Print results\n",
        "print(f\"Sample Mean: {mean}\")\n",
        "print(f\"Sample Variance: {variance}\")\n",
        "\n",
        "#Theoretical values\n",
        "theoretical_mean = n * p\n",
        "theoretical_variance = n * p * (1-p)\n",
        "print(f\"Theoretical Mean: {theoretical_mean}\")\n",
        "print(f\"Theoretical Variance: {theoretical_variance}\")"
      ],
      "metadata": {
        "id": "b052HWb_KhgD",
        "outputId": "7d2f020d-30e7-43cf-bf6c-8b31988483eb",
        "colab": {
          "base_uri": "https://localhost:8080/",
          "height": 545
        }
      },
      "execution_count": 7,
      "outputs": [
        {
          "output_type": "display_data",
          "data": {
            "text/plain": [
              "<Figure size 640x480 with 1 Axes>"
            ],
            "image/png": "[encoded data removed]"
          },
          "metadata": {}
        },
        {
          "output_type": "stream",
          "name": "stdout",
          "text": [
            "Sample Mean: 5.976\n",
            "Sample Variance: 2.239424\n",
            "Theoretical Mean: 6.0\n",
            "Theoretical Variance: 2.4000000000000004\n"
          ]
        }
      ]
    },
    {
      "cell_type": "markdown",
      "source": [
        "Expected Results:\n",
        "\n",
        "●\tTheoretical Mean: n×p=10×0.6=6n \\times p = 10 \\times 0.6 = 6n×p=10×0.6=6\n",
        "\n",
        "●\tTheoretical Variance: n×p×(1−p)=10×0.6×0.4=2.4n \\times p \\times (1 - p) = 10 \\times 0.6 \\times 0.4 = 2.4n×p×(1−p)=10×0.6×0.4=2.4\n",
        "   \n",
        "Objective Summary:\n",
        "\n",
        "●\tThe simulation should show a distribution centered around 6 successes.\n",
        "\n",
        "●\tThe sample mean and variance should be close to theoretical values (mean = 6, variance = 2.4), confirming the properties of the binomial distribution.\n",
        "\n"
      ],
      "metadata": {
        "id": "LLKStE1yKdEZ"
      }
    }
  ],
  "metadata": {
    "colab": {
      "name": "Welcome To Colab",
      "provenance": []
    },
    "kernelspec": {
      "display_name": "Python 3",
      "name": "python3"
    }
  },
  "nbformat": 4,
  "nbformat_minor": 0
}