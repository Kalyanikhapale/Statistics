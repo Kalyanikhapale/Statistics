{
  "nbformat": 4,
  "nbformat_minor": 0,
  "metadata": {
    "colab": {
      "provenance": []
    },
    "kernelspec": {
      "name": "python3",
      "display_name": "Python 3"
    },
    "language_info": {
      "name": "python"
    }
  },
  "cells": [
    {
      "cell_type": "code",
      "execution_count": null,
      "metadata": {
        "id": "WeUkP7OxOz2A"
      },
      "outputs": [],
      "source": [
        "'''Q.1 Explain the different types of data (qualitative and quantitative) and provide examples of each. Discuss nominal, ordinal, interval, and ratio scales'''"
      ]
    },
    {
      "cell_type": "markdown",
      "source": [
        "Types of Data:\n",
        "\n",
        "Data is mainly classified into two types:\n",
        "1.\tQualitative Data (Categorical Data)\n",
        "- \tDescribes qualities, characteristics, or categories\n",
        "-\tCannot be measured numerically, only categorized\n",
        "\n",
        "Examples:\n",
        "-\tColors (Red, Blue, Green)\n",
        "-\tGender (Male, Female)\n",
        "-\tMarital Status (Single, Married)\n",
        "\n",
        "2.\tQuantitative Data (Numerical Data)\n",
        "-\tRepresents numerical values\n",
        "-\tCan be measured and counted\n",
        "\n",
        "Examples:\n",
        "-\tHeight (170 cm, 180 cm)\n",
        "-\tWeight (60 kg, 75 kg)\n",
        "-\tAge (20 years, 25 years)\n",
        "\n",
        "Levels of Measurement (Scales of Data)\n",
        "\n",
        "1. Nominal Scale (Qualitative)\n",
        "\n",
        "•\tDefinition: Categories with no logical order or ranking.\n",
        "\n",
        "•\tExample: Gender (Male, Female), Eye Color (Brown, Blue, Green)\n",
        "\n",
        "•\tKey Point: Only labels, no comparison possible.\n",
        "\n",
        "2. Ordinal Scale (Qualitative)\n",
        "\n",
        "•\tDefinition: Categories with a logical order, but no measurable distance between them.\n",
        "\n",
        "•\tExample:\n",
        "\n",
        "Education Level (High School, Bachelor’s, Master’s)\n",
        "\n",
        "Customer Satisfaction (Very Unsatisfied, Unsatisfied, Neutral, Satisfied, Very Satisfied)\n",
        "\n",
        "•\tKey Point: Rank/order is important but the difference between ranks is not measurable.\n",
        "\n",
        "3. Interval Scale (Quantitative)\n",
        "\n",
        "•\tDefinition: Numeric scale with equal intervals but no true zero.\n",
        "\n",
        "•\tExample: Temperature in Celsius or Fahrenheit (0°C doesn’t mean no temperature)\n",
        "\n",
        "•\tKey Point: Differences can be measured, but ratios cannot be calculated.\n",
        "\n",
        "4. Ratio Scale (Quantitative)\n",
        "\n",
        "•\tDefinition: Numeric scale with a true zero and equal intervals.\n",
        "\n",
        "•\tExample: Weight, Height, Age, Distance (0 kg means no weight)\n",
        "\n",
        "•\tKey Point: Both differences and ratios are meaningful (e.g., 20 kg is twice as heavy as 10 kg)\n"
      ],
      "metadata": {
        "id": "DGeUPLuOO_gr"
      }
    },
    {
      "cell_type": "code",
      "source": [
        "'''Q.2 What are the measures of central tendency? When should you use each? Discuss the mean, median, and mode with examples.'''"
      ],
      "metadata": {
        "id": "icXPQXujQQXi"
      },
      "execution_count": null,
      "outputs": []
    },
    {
      "cell_type": "markdown",
      "source": [
        "Measures of central tendency are statistical tools used to find the center or average value of a dataset. The three main measures are mean, median, and mode.\n",
        "\n",
        "1. Mean:\n",
        "\n",
        "The mean is the sum of all observations divided by the total number of observations. It is also called the average.\n",
        "\n",
        "Formula:\n",
        "\n",
        "Mean = (Sum of all values) ÷ (Number of values)\n",
        "\n",
        "Example:\n",
        "\n",
        "If the data is 10, 20, 30\n",
        "Mean = (10 + 20 + 30) ÷ 3 = 20\n",
        "\n",
        "When to Use:\n",
        "\n",
        "The mean is used when data is evenly distributed and there are no extreme values (outliers).\n",
        "\n",
        "2. Median:\n",
        "\n",
        "The median is the middle value of the data when arranged in ascending or descending order.\n",
        "\n",
        "Example:\n",
        "\n",
        "If the data is 10, 20, 30, the median is 20.\n",
        "If the data is 10, 20, 30, 40, the median is (20 + 30) ÷ 2 = 25\n",
        "\n",
        "When to Use:\n",
        "\n",
        "The median is used when the data has outliers or is not symmetrically distributed.\n",
        "\n",
        "3. Mode:\n",
        "\n",
        "The mode is the value that appears most frequently in the dataset.\n",
        "\n",
        "Example:\n",
        "\n",
        "In the data 10, 20, 20, 30, the mode is 20 because it occurs most often.\n",
        "\n",
        "When to Use:\n",
        "\n",
        "The mode is used when we want to know the most common or popular item, especially in categorical data.\n"
      ],
      "metadata": {
        "id": "WnUxtbUhQc-M"
      }
    },
    {
      "cell_type": "code",
      "source": [
        "'''Q.3 Explain the concept of dispersion. How do variance and standard deviation measure the spread of data?'''"
      ],
      "metadata": {
        "id": "mWpL4oMWRH1k"
      },
      "execution_count": null,
      "outputs": []
    },
    {
      "cell_type": "markdown",
      "source": [
        "Dispersion refers to the degree of spread or variability of data in a dataset. It shows how much the data values differ from the central value (like the mean).\n",
        "\n",
        "When the dispersion is small, the data points are close to the mean. When the dispersion is large, the data points are widely spread out.\n",
        "\n",
        "Variance:\n",
        "\n",
        "Variance measures the average squared distance of each data point from the mean.\n",
        "\n",
        "Formula:\n",
        "\n",
        "Variance (σ²) = Σ (x - 𝜇)² ÷ N\n",
        "\n",
        "Where:\n",
        "\n",
        "•\tx = each data point\n",
        "\n",
        "•\t𝜇 = mean of the data\n",
        "\n",
        "•\tN = number of observations\n",
        "\n",
        "Meaning:\n",
        "\n",
        "If the variance is large, the data points are spread out. If the variance is small, the data points are close to the mean.\n",
        "\n",
        "Standard Deviation:\n",
        "\n",
        "Standard deviation is the square root of the variance. It measures the average distance of each data point from the mean.\n",
        "\n",
        "Formula:\n",
        "\n",
        "Standard Deviation (σ) = √Variance\n",
        "\n",
        "Meaning:\n",
        "\n",
        "Standard deviation gives a clear and simple measure of spread in the same units as the data.\n"
      ],
      "metadata": {
        "id": "RIPCWLEUROaz"
      }
    },
    {
      "cell_type": "code",
      "source": [
        "'''Q.4 What is a box plot, and what can it tell you about the distribution of data?'''\n"
      ],
      "metadata": {
        "id": "OoDYmPwpRq88"
      },
      "execution_count": null,
      "outputs": []
    },
    {
      "cell_type": "markdown",
      "source": [
        "A box plot (also called a box-and-whisker plot) is a graphical representation that shows the spread and distribution of a dataset.\n",
        "\n",
        "It visually displays the minimum, first quartile (Q1), median, third quartile (Q3), and maximum values of the data.\n",
        "\n",
        "What a Box Plot Shows:\n",
        "\n",
        "1.\tMinimum Value: The smallest data point (excluding outliers).\n",
        "2.\tFirst Quartile (Q1): 25% of data lies below this value.\n",
        "3.\tMedian (Q2): The middle value of the data.\n",
        "4.\tThird Quartile (Q3): 75% of data lies below this value.\n",
        "5.\tMaximum Value: The largest data point (excluding outliers).\n",
        "6.\tOutliers: Data points that are far from the rest of the dataset.\n",
        "\n",
        "What it Tells About Data:\n",
        "\n",
        "•\tData Spread: Shows how widely the data is distributed.\n",
        "\n",
        "•\tSymmetry or Skewness: If the median is in the center, data is symmetric; if not, data is skewed.\n",
        "\n",
        "•\tOutliers: Box plots help easily identify outliers.\n",
        "\n",
        "•\tComparing Datasets: Multiple box plots can quickly compare distributions.\n"
      ],
      "metadata": {
        "id": "FwyWlBOWR0gH"
      }
    },
    {
      "cell_type": "code",
      "source": [
        "'''Q.5 Discuss the role of random sampling in making inferences about populations.'''"
      ],
      "metadata": {
        "id": "TWRrsNhUSJpL"
      },
      "execution_count": null,
      "outputs": []
    },
    {
      "cell_type": "markdown",
      "source": [
        "Random sampling is a method of selecting a sample from a population in such a way that every individual has an equal chance of being chosen.\n",
        "\n",
        "It is an important technique in statistics for making reliable and unbiased inferences about a population.\n",
        "\n",
        "Role of Random Sampling:\n",
        "1.\tEnsures Fair Representation:\n",
        "Random sampling helps to select a group that accurately represents the entire population.\n",
        "2.\tReduces Bias:\n",
        "Since selection is completely random, the chances of personal or systematic bias are minimized.\n",
        "3.\tEnables Statistical Inference:\n",
        "By studying a random sample, we can make valid predictions and conclusions about the whole population without studying every individual.\n",
        "4.\tSupports Generalization:\n",
        "Results from random samples can be generalized to the population with a known level of confidence.\n",
        "5.\tImproves Accuracy:\n",
        "Larger random samples usually give more accurate and reliable results.\n"
      ],
      "metadata": {
        "id": "T6DnYghaSOvr"
      }
    },
    {
      "cell_type": "code",
      "source": [
        "'''Q.6 Explain the concept of skewness and its types. How does skewness affect the interpretation of data?'''"
      ],
      "metadata": {
        "id": "6hcAN1aZSarc"
      },
      "execution_count": null,
      "outputs": []
    },
    {
      "cell_type": "markdown",
      "source": [
        "Skewness refers to the asymmetry or lack of symmetry in the distribution of data.\n",
        "It shows whether the data is balanced around the mean or shifted to one side.\n",
        "\n",
        "Types of Skewness:\n",
        "1.\tPositive Skewness (Right Skewed):\n",
        "\n",
        "o\tThe tail of the distribution is longer on the right side.\n",
        "\n",
        "o\tMost data points are concentrated on the left.\n",
        "\n",
        "o\tExample: Income distribution (few people have very high incomes).\n",
        "\n",
        "2.\tNegative Skewness (Left Skewed):\n",
        "\n",
        "o\tThe tail of the distribution is longer on the left side.\n",
        "\n",
        "o\tMost data points are concentrated on the right.\n",
        "\n",
        "o\tExample: Age at retirement (most retire around the same age, few retire much earlier).\n",
        "\n",
        "3.\tZero Skewness (Symmetric Distribution):\n",
        "\n",
        "o\tData is evenly distributed around the mean.\n",
        "\n",
        "o\tExample: Normally distributed data like human heights.\n",
        "\n",
        "Effect of Skewness on Data Interpretation:\n",
        "\n",
        "•\tIn positively skewed data, the mean is greater than the median.\n",
        "\n",
        "•\tIn negatively skewed data, the mean is less than the median.\n",
        "\n",
        "•\tSkewness affects the choice of central tendency measure.\n",
        "In skewed data, the median is a better measure than the mean.\n"
      ],
      "metadata": {
        "id": "YLB7ioi5SiKL"
      }
    },
    {
      "cell_type": "code",
      "source": [
        "'''Q.7 What is the interquartile range (IQR), and how is it used to detect outliers?'''"
      ],
      "metadata": {
        "id": "a_ex7cEtS6Se"
      },
      "execution_count": null,
      "outputs": []
    },
    {
      "cell_type": "markdown",
      "source": [
        "The Interquartile Range (IQR) is a measure of statistical dispersion that shows the middle 50% of the data.\n",
        "\n",
        "It is the difference between the third quartile (Q3) and the first quartile (Q1).\n",
        "\n",
        "Formula:\n",
        "\n",
        "IQR = Q3 − Q1\n",
        "\n",
        "How is IQR Used to Detect Outliers?\n",
        "\n",
        "-Outliers are extreme values that lie far away from most of the data points.\n",
        "\n",
        "-Using the IQR method, outliers can be detected by the following steps:\n",
        "\n",
        "•\tLower Limit: Q1 − 1.5 × IQR\n",
        "\n",
        "•\tUpper Limit: Q3 + 1.5 × IQR\n",
        "\n",
        "Any data point that lies below the lower limit or above the upper limit is considered an outlier.\n",
        "\n",
        "Example:\n",
        "\n",
        "If Q1 = 20 and Q3 = 40, then\n",
        "\n",
        "IQR = 40 − 20 = 20\n",
        "\n",
        "Lower Limit = 20 − (1.5 × 20) = −10\n",
        "\n",
        "Upper Limit = 40 + (1.5 × 20) = 70\n",
        "\n",
        "Any value outside the range −10 to 70 is an outlier.\n"
      ],
      "metadata": {
        "id": "9o9wk-cWTA89"
      }
    },
    {
      "cell_type": "code",
      "source": [
        "'''Q.8 Discuss the conditions under which the binomial distribution is used.'''"
      ],
      "metadata": {
        "id": "m2mYtdu5ToOz"
      },
      "execution_count": null,
      "outputs": []
    },
    {
      "cell_type": "markdown",
      "source": [
        "The binomial distribution is used when there are only two possible outcomes for each trial: success or failure.\n",
        "\n",
        "It is commonly applied in situations where the same experiment is repeated multiple times.\n",
        "\n",
        "Conditions for Using Binomial Distribution:\n",
        "\n",
        "1.\tFixed Number of Trials:\n",
        "The number of experiments or trials (n) must be fixed in advance.\n",
        "Example: Tossing a coin 10 times.\n",
        "2.\tOnly Two Outcomes:\n",
        "Each trial should have exactly two possible outcomes – success or failure.\n",
        "Example: Getting heads (success) or tails (failure) in a coin toss.\n",
        "3.\tConstant Probability:\n",
        "The probability of success (p) and failure (q = 1 – p) must remain the same for every trial.\n",
        "4.\tIndependent Trials:\n",
        "Each trial must be independent, meaning the outcome of one trial does not affect the others.\n",
        "\n",
        "Example:\n",
        "Tossing a coin 5 times and counting how many times heads appear is a binomial distribution case.\n"
      ],
      "metadata": {
        "id": "qXb4DRtwTt56"
      }
    },
    {
      "cell_type": "code",
      "source": [
        "'''Q.9 Explain the properties of the normal distribution and the empirical rule (68-95-99.7 rule).'''"
      ],
      "metadata": {
        "id": "uftuIsulUBHK"
      },
      "execution_count": null,
      "outputs": []
    },
    {
      "cell_type": "markdown",
      "source": [
        "The normal distribution is a continuous probability distribution that is symmetrical and bell-shaped. It is one of the most important distributions in statistics.\n",
        "\n",
        "Properties of Normal Distribution:\n",
        "1.\tSymmetrical Shape:\n",
        "The distribution is perfectly symmetrical about the mean.\n",
        "2.\tMean = Median = Mode:\n",
        "In a normal distribution, all three central measures are equal.\n",
        "3.\tBell-Shaped Curve:\n",
        "The curve is highest at the mean and decreases on both sides.\n",
        "4.\tTails Extend Infinitely:\n",
        "The curve approaches, but never touches, the horizontal axis.\n",
        "5.\tData Clustering:\n",
        "Most of the data values are concentrated near the mean.\n",
        "\n",
        "Empirical Rule (68-95-99.7 Rule):\n",
        "\n",
        "The empirical rule tells us how data is spread in a normal distribution:\n",
        "\n",
        "•\t68% of data falls within 1 standard deviation from the mean.\n",
        "\n",
        "•\t95% of data falls within 2 standard deviations from the mean.\n",
        "\n",
        "•\t99.7% of data falls within 3 standard deviations from the mean.\n",
        "\n",
        "This rule helps in quickly estimating probabilities and understanding data spread.\n"
      ],
      "metadata": {
        "id": "EP1sWhsPUG0r"
      }
    },
    {
      "cell_type": "code",
      "source": [
        "'''Q.10 Provide a real-life example of a Poisson process and calculate the probability for a specific event.'''"
      ],
      "metadata": {
        "id": "73KAwEtdUY8v"
      },
      "execution_count": null,
      "outputs": []
    },
    {
      "cell_type": "markdown",
      "source": [
        "A Poisson process describes the probability of a given number of events happening in a fixed interval of time or space when the events occur randomly and independently.\n",
        "\n",
        "Real-Life Example:\n",
        "\n",
        "The number of customer arrivals at a bank in 1 hour follows a Poisson process.\n",
        "\n",
        "Let’s assume, on average, 5 customers arrive per hour.\n",
        "\n",
        "We want to calculate the probability that exactly 3 customers arrive in the next hour.\n",
        "\n",
        "Poisson Probability Formula:\n",
        "\n",
        "P(x)=e−λλxx!P(x) = \\frac{e^{-λ} λ^x}{x!}\n",
        "\n",
        "Where:\n",
        "\n",
        "•\tλλ = average rate (5 customers per hour)\n",
        "\n",
        "•\txx = number of events (3 customers)\n",
        "\n",
        "•\tee = 2.718 (mathematical constant)\n",
        "\n",
        "Calculation:\n",
        "\n",
        "P(3)=e−5×533!P(3) = \\frac{e^{-5} × 5^3}{3!} =(0.0067)×1256=0.83756≈0.1396= \\frac{(0.0067) × 125}{6} = \\frac{0.8375}{6} ≈ 0.1396\n",
        "\n",
        "So, the probability of exactly 3 customers arriving in the next hour is approximately 13.96%.\n"
      ],
      "metadata": {
        "id": "K0f6le3OUfDB"
      }
    },
    {
      "cell_type": "code",
      "source": [
        "'''Q.11 Explain what a random variable is and differentiate between discrete and continuous random variables.'''"
      ],
      "metadata": {
        "id": "NjKOiFFvU9NS"
      },
      "execution_count": null,
      "outputs": []
    },
    {
      "cell_type": "markdown",
      "source": [
        "A random variable is a numerical value that represents the outcome of a random experiment.\n",
        "It can take different values depending on chance.\n",
        "\n",
        "Types of Random Variables:\n",
        "\n",
        "1) Discrete Random Variable:\n",
        "\n",
        "•\tIt can take countable values.\n",
        "\n",
        "•\tValues are usually whole numbers.\n",
        "\n",
        "•\tExample: Number of heads in 5 coin tosses, number of students in a class.\n",
        "\n",
        "•\tKey Point: The values can be listed (like 0, 1, 2, 3...).\n",
        "\n",
        "2) Continuous Random Variable:\n",
        "\n",
        "•\tIt can take any value within a given range.\n",
        "\n",
        "•\tValues can include decimals and fractions.\n",
        "\n",
        "•\tExample: Height of students, time taken to run a race.\n",
        "\n",
        "•\tKey Point: The possible values cannot be counted exactly.\n"
      ],
      "metadata": {
        "id": "IpIl5GS9VEK7"
      }
    },
    {
      "cell_type": "code",
      "source": [
        "'''Q.12 Provide an example dataset, calculate both covariance and correlation, and interpret the results.'''"
      ],
      "metadata": {
        "id": "1O5l-_sGVXJI"
      },
      "execution_count": null,
      "outputs": []
    },
    {
      "cell_type": "markdown",
      "source": [
        "Let’s consider the following small dataset for two variables:\n",
        "\n",
        "X (Study Hours): 2, 4, 6\n",
        "\n",
        "Y (Marks): 50, 60, 80\n",
        "\n",
        "Step 1: Calculate the Means\n",
        "•\tMean of X = (2 + 4 + 6) ÷ 3 = 4\n",
        "•\tMean of Y = (50 + 60 + 80) ÷ 3 = 63.33\n",
        "\n",
        "Step 2: Calculate Covariance\n",
        "\n",
        "Cov(X,Y)=Σ(Xi−Xˉ)(Yi−Yˉ)nCov(X,Y) = \\frac{Σ(X_i - \\bar{X})(Y_i - \\bar{Y})}{n} =(2−4)(50−63.33)+(4−4)(60−63.33)+(6−4)(80−63.33)3= \\frac{(2 - 4)(50 - 63.33) + (4 - 4)(60 - 63.33) + (6 - 4)(80 - 63.33)}{3} =(−2)(−13.33)+(0)(−3.33)+(2)(16.67)3= \\frac{(-2)(-13.33) + (0)(-3.33) + (2)(16.67)}{3} =26.66+0+33.343=603=20= \\frac{26.66 + 0 + 33.34}{3} = \\frac{60}{3} = 20\n",
        "\n",
        "Covariance = 20\n",
        "\n",
        "Step 3: Calculate Correlation\n",
        "\n",
        "r=Cov(X,Y)σXσYr = \\frac{Cov(X,Y)}{σ_X σ_Y}\n",
        "\n",
        "Where:\n",
        "\n",
        "•\tσXσ_X = Standard deviation of X\n",
        "\n",
        "•\tσYσ_Y = Standard deviation of Y\n",
        "\n",
        "Calculate σXσ_X:\n",
        "\n",
        "σX=(2−4)2+(4−4)2+(6−4)23=4+0+43=83≈1.63σ_X = \\sqrt{ \\frac{(2-4)^2 + (4-4)^2 + (6-4)^2}{3} } = \\sqrt{ \\frac{4+0+4}{3} } = \\sqrt{ \\frac{8}{3} } ≈ 1.63\n",
        "\n",
        "Calculate σYσ_Y:\n",
        "\n",
        "σY=(50−63.33)2+(60−63.33)2+(80−63.33)23σ_Y = \\sqrt{ \\frac{(50-63.33)^2 + (60-63.33)^2 + (80-63.33)^2}{3} } =(177.69)+(11.11)+(277.69)3=466.493≈155.50≈12.47= \\sqrt{ \\frac{(177.69) + (11.11) + (277.69)}{3} } = \\sqrt{ \\frac{466.49}{3} } ≈ \\sqrt{155.50} ≈ 12.47\n",
        "\n",
        "Now, calculate correlation:\n",
        "\n",
        "r=201.63×12.47≈2020.32≈0.984r = \\frac{20}{1.63 × 12.47} ≈ \\frac{20}{20.32} ≈ 0.984\n",
        "Correlation ≈ 0.98\n",
        "\n",
        "Interpretation:\n",
        "\n",
        "•\tCovariance = 20: Positive covariance means both study hours and marks tend to increase together.\n",
        "\n",
        "•\tCorrelation = 0.98: Strong positive relationship. As study hours increase, marks also increase.\n"
      ],
      "metadata": {
        "id": "hvz74ZwyVe2t"
      }
    }
  ]
}