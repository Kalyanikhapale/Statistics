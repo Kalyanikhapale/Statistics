{
  "nbformat": 4,
  "nbformat_minor": 0,
  "metadata": {
    "colab": {
      "provenance": []
    },
    "kernelspec": {
      "name": "python3",
      "display_name": "Python 3"
    },
    "language_info": {
      "name": "python"
    }
  },
  "cells": [
    {
      "cell_type": "code",
      "execution_count": null,
      "metadata": {
        "id": "M_YYLsrXMuvH"
      },
      "outputs": [],
      "source": [
        "'''Q1.Explain the properties of the F-distribution'''"
      ]
    },
    {
      "cell_type": "markdown",
      "source": [
        "The F-distribution is a continuous probability distribution that is widely used in analysis of variance (ANOVA) and in comparing variances of two populations.\n",
        "Properties of the F-Distribution:\n",
        "1.\tPositively Skewed:\n",
        "The F-distribution is right-skewed and not symmetric.\n",
        "2.\tNon-Negative Values:\n",
        "The F-distribution values are always positive (greater than or equal to zero) because it is based on squared terms.\n",
        "3.\tDepends on Two Degrees of Freedom:\n",
        "The shape of the F-distribution depends on:\n",
        "o\tDegrees of freedom for the numerator (df₁)\n",
        "o\tDegrees of freedom for the denominator (df₂)\n",
        "4.\tUsed to Compare Variances:\n",
        "The F-distribution is mainly used to test if two sample variances are significantly different.\n",
        "5.\tChanges with Sample Size:\n",
        "As the sample size increases, the F-distribution becomes more symmetric.\n",
        "6.\tMean and Variance:\n",
        "The mean of the F-distribution is usually greater than 1, especially when the degrees of freedom are large.\n"
      ],
      "metadata": {
        "id": "k6KDaUqINS_b"
      }
    },
    {
      "cell_type": "code",
      "source": [
        "''' Q2.In which types of statistical tests is the F-distribution used, and\n",
        "why is it appropriate for these tests? '''"
      ],
      "metadata": {
        "id": "QyDCWI0oNgHR"
      },
      "execution_count": null,
      "outputs": []
    },
    {
      "cell_type": "markdown",
      "source": [
        "\n",
        "The F-distribution is mainly used in statistical tests that involve comparing variances or multiple group means. It is suitable because it is based on the ratio of variances and is always positive.\n",
        "Statistical Tests Using the F-Distribution:\n",
        "1.\tANOVA (Analysis of Variance):\n",
        "o\tUsed to compare the means of three or more groups.\n",
        "o\tThe F-distribution helps determine if at least one group mean is significantly different from the others.\n",
        "2.\tF-Test for Equality of Variances:\n",
        "o\tUsed to compare variances of two populations.\n",
        "o\tThe F-distribution is appropriate because it is based on the ratio of two sample variances.\n",
        "3.\tRegression Analysis (Model Comparison):\n",
        "o\tThe F-distribution is used to test whether the overall regression model is significant.\n",
        "\n",
        "Why is it Appropriate?\n",
        "\n",
        "•\tThe F-distribution is based on the ratio of variances, which are always positive.\n",
        "•\tIt provides a way to test the relationship between variability within groups and between groups.\n",
        "•\tIt handles multiple group comparisons efficiently.\n"
      ],
      "metadata": {
        "id": "GLrMZ3pBNtlp"
      }
    },
    {
      "cell_type": "code",
      "source": [
        "''' Q3.What are the key assumptions required for conducting an F-test to compare the variances of two populations? '''"
      ],
      "metadata": {
        "id": "SLMv0dZiN5p-"
      },
      "execution_count": null,
      "outputs": []
    },
    {
      "cell_type": "markdown",
      "source": [
        "The F-test is used to compare the variances of two populations. To ensure valid results, certain key assumptions must be satisfied.\n",
        "\n",
        "Key Assumptions of F-Test:\n",
        "1.\tNormality:\n",
        "o\tBoth populations should follow a normal distribution.\n",
        "o\tThe F-test is very sensitive to non-normal data.\n",
        "2.\tIndependent Samples:\n",
        "o\tThe two samples must be independent of each other.\n",
        "o\tThe outcome of one sample should not affect the other.\n",
        "3.\tRandom Sampling:\n",
        "o\tThe samples must be selected using random sampling methods to avoid bias.\n",
        "4.\tScale of Measurement:\n",
        "o\tThe data should be measured on a ratio or interval scale.\n"
      ],
      "metadata": {
        "id": "zVpS1GLQOZgY"
      }
    },
    {
      "cell_type": "code",
      "source": [
        "''' Q4. What is the purpose of ANOVA, and how does it differ from a t-test? '''"
      ],
      "metadata": {
        "id": "FrmnKSd4Oq-9"
      },
      "execution_count": null,
      "outputs": []
    },
    {
      "cell_type": "markdown",
      "source": [
        "ANOVA (Analysis of Variance) is a statistical method used to compare the means of three or more groups to check if at least one group mean is significantly different from the others.\n",
        "\n",
        "Purpose of ANOVA:\n",
        "\n",
        "To determine whether the differences between group means are statistically significant.\n",
        "\n",
        "It tests the impact of one or more factors by comparing the variances within groups and between groups.\n",
        "\n",
        "It helps in analyzing multiple group comparisons in a single test.\n",
        "\n",
        "  Difference Between ANOVA and t-Test:\n",
        "\n",
        "Number of Groups Compared:\n",
        "\n",
        "t-Test: Compares the means of two groups only.\n",
        "\n",
        "ANOVA: Compares the means of three or more groups.\n",
        "\n",
        "\n",
        "Test Statistic:\n",
        "\n",
        "t-Test: Uses the t-distribution.\n",
        "\n",
        "ANOVA: Uses the F-distribution.\n",
        "\n",
        "\n",
        "Risk of Error:\n",
        "\n",
        "Using multiple t-tests increases the risk of Type I error (false positive).\n",
        "\n",
        "ANOVA controls the error rate when comparing multiple groups.\n",
        "\n",
        "\n",
        "Purpose:\n",
        "\n",
        "t-Test is suitable for simple comparisons.\n",
        "\n",
        "ANOVA is suitable for complex comparisons with more than two groups.\n",
        "\n"
      ],
      "metadata": {
        "id": "znHllZJ_PISn"
      }
    },
    {
      "cell_type": "code",
      "source": [
        "'''Q5.Explain when and why you would use a one-way ANOVA instead of multiple t-tests when comparing more\n",
        "than two groups'''"
      ],
      "metadata": {
        "id": "f542_KFaP3ZV"
      },
      "execution_count": null,
      "outputs": []
    },
    {
      "cell_type": "markdown",
      "source": [
        "When comparing more than two groups, a one-way ANOVA is preferred instead of performing multiple t-tests.\n",
        "\n",
        "When to Use One-Way ANOVA:\n",
        "\n",
        "When you need to compare the means of three or more independent groups.\n",
        "\n",
        "Example: Comparing the average marks of students from three different classes.\n",
        "\n",
        "Why Use One-Way ANOVA Instead of Multiple t-Tests:\n",
        "\n",
        "Controls Type I Error:\n",
        "\n",
        "Performing multiple t-tests increases the chance of making a Type I error (false positive).\n",
        "\n",
        "One-way ANOVA controls this error and gives a reliable result.\n",
        "\n",
        "\n",
        "More Efficient:\n",
        "\n",
        "ANOVA can test all groups at the same time in one single test instead of performing many t-tests.\n",
        "\n",
        "\n",
        "Provides Overall Comparison:\n",
        "\n",
        "ANOVA tells whether at least one group mean is different from the others.\n",
        "\n",
        "\n",
        "Appropriate Statistical Method:\n",
        "\n",
        "ANOVA is designed for multiple group comparisons, while t-tests are suitable only for comparing two groups.\n",
        "\n"
      ],
      "metadata": {
        "id": "WN0XjbrJP_SR"
      }
    },
    {
      "cell_type": "code",
      "source": [
        "'''Q6.Explain how variance is partitioned in ANOVA into between-group variance and within-group variance.\n",
        "How does this partitioning contribute to the calculation of the F-statistic?'''"
      ],
      "metadata": {
        "id": "tPjOcWM2Qr07"
      },
      "execution_count": null,
      "outputs": []
    },
    {
      "cell_type": "markdown",
      "source": [
        "In ANOVA (Analysis of Variance), the total variance in the data is divided (partitioned) into two parts:\n",
        "\n",
        "Between-Group Variance\n",
        "\n",
        "Within-Group Variance\n",
        "\n",
        "\n",
        "1. Between-Group Variance:\n",
        "\n",
        "Measures how much the group means differ from the overall mean.\n",
        "\n",
        "It shows the effect of the independent variable.\n",
        "\n",
        "Larger between-group variance means groups are more different from each other.\n",
        "\n",
        "2. Within-Group Variance:\n",
        "\n",
        "Measures how much individual observations differ from their own group mean.\n",
        "\n",
        "It shows the random variability or error inside each group.\n",
        "\n",
        "Smaller within-group variance means data within each group is tightly clustered.\n",
        "\n",
        "\n",
        "\n",
        "How This Partitioning Helps Calculate the F-Statistic:\n",
        "\n",
        "\n",
        "The F-statistic in ANOVA is calculated by dividing the between-group variance by the within-group variance.\n",
        "\n",
        "𝐹 = Between-Group Variance/\n",
        "  Within-Group Variance\n",
        "\n",
        "If the F-value is large, it means the difference between groups is large compared to the differences within groups, indicating significant results.\n",
        "\n",
        "If the F-value is small (close to 1), it means the group differences are not greater than random variation.\n"
      ],
      "metadata": {
        "id": "koTqBG-gQzW_"
      }
    },
    {
      "cell_type": "code",
      "source": [
        "'''Q7 Compare the classical (frequentist) approach to ANOVA with the Bayesian approach. What are the key\n",
        "differences in terms of how they handle uncertainty, parameter estimation, and hypothesis testing?'''"
      ],
      "metadata": {
        "id": "rhm9bSlkSodH"
      },
      "execution_count": null,
      "outputs": []
    },
    {
      "cell_type": "markdown",
      "source": [
        "ANOVA can be performed using two main approaches:\n",
        "\n",
        "Classical (Frequentist) ANOVA\n",
        "\n",
        "Bayesian ANOVA\n",
        "\n",
        "Both aim to compare group means but handle uncertainty and decision-making differently.\n",
        "\n",
        "\n",
        "1. Classical (Frequentist) ANOVA:\n",
        "Based on fixed parameters and probability from repeated sampling.\n",
        "\n",
        "Uses F-statistics and p-values to test hypotheses.\n",
        "\n",
        "Hypothesis testing is focused on accepting or rejecting the null hypothesis.\n",
        "\n",
        "Handles uncertainty by using confidence intervals and p-values.\n",
        "\n",
        "Does not incorporate prior information.\n",
        "\n",
        "2. Bayesian ANOVA:\n",
        "Based on probability as degrees of belief.\n",
        "\n",
        "Uses prior distributions and updates them with data to find posterior distributions.\n",
        "\n",
        "Hypothesis testing is based on the probability of the hypothesis being true.\n",
        "\n",
        "Handles uncertainty using posterior distributions instead of just p-values.\n",
        "\n",
        "Can include prior knowledge in the analysis.\n",
        "\n",
        "\n",
        "\n",
        "Key Differences:\n",
        "Handling Uncertainty:\n",
        "\n",
        "Classical: Uses p-values and confidence intervals.\n",
        "\n",
        "Bayesian: Uses posterior probabilities and credible intervals.\n",
        "\n",
        "\n",
        "Parameter Estimation:\n",
        "\n",
        "Classical: Estimates fixed unknown parameters.\n",
        "\n",
        "Bayesian: Parameters are treated as random variables with distributions.\n",
        "\n",
        "\n",
        "Hypothesis Testing:\n",
        "\n",
        "Classical: Rejects or fails to reject the null hypothesis.\n",
        "\n",
        "Bayesian: Calculates the probability of the hypothesis being true.\n",
        "\n"
      ],
      "metadata": {
        "id": "8-UdKjgTSu3J"
      }
    },
    {
      "cell_type": "code",
      "source": [
        "'''Q8.Question: You have two sets of data representing the incomes of two different professions\n",
        " Profession A: [48, 52, 55, 60, 62\n",
        " Profession B: [45, 50, 55, 52, 47] Perform an F-test to determine if the variances of the two professions'\n",
        "incomes are equal. What are your conclusions based on the F-test?\n",
        " Task: Use Python to calculate the F-statistic and p-value for the given data.\n",
        " Objective: Gain experience in performing F-tests and interpreting the results in terms of variance comparison'''"
      ],
      "metadata": {
        "id": "kCu7xQFOUeXn"
      },
      "execution_count": null,
      "outputs": []
    },
    {
      "cell_type": "code",
      "source": [
        "import numpy as np\n",
        "from scipy.stats import f\n",
        "\n",
        "# Data for both professions\n",
        "profession_A = [48, 52, 55, 60, 62]\n",
        "profession_B = [45, 50, 55, 52, 47]\n",
        "\n",
        "# Sample variances\n",
        "var_A = np.var(profession_A, ddof=1)\n",
        "var_B = np.var(profession_B, ddof=1)\n",
        "\n",
        "# F-statistic (larger variance / smaller variance)\n",
        "if var_A > var_B:\n",
        "    F = var_A / var_B\n",
        "    dfn = len(profession_A) - 1  # degrees of freedom numerator\n",
        "    dfd = len(profession_B) - 1  # degrees of freedom denominator\n",
        "else:\n",
        "    F = var_B / var_A\n",
        "    dfn = len(profession_B) - 1\n",
        "    dfd = len(profession_A) - 1\n",
        "\n",
        "# p-value (two-tailed test)\n",
        "p_value = 2 * min(f.cdf(F, dfn, dfd), 1 - f.cdf(F, dfn, dfd))\n",
        "\n",
        "# Output results\n",
        "print(\"Variance of Profession A:\", round(var_A, 2))\n",
        "print(\"Variance of Profession B:\", round(var_B, 2))\n",
        "print(\"F-statistic:\", round(F, 4))\n",
        "print(\"p-value:\", round(p_value, 4))\n",
        "\n",
        "# Interpretation\n",
        "alpha = 0.05\n",
        "if p_value < alpha:\n",
        "    print(\"Conclusion: Reject the null hypothesis. Variances are significantly different.\")\n",
        "else:\n",
        "    print(\"Conclusion: Fail to reject the null hypothesis. No significant difference in variances.\")\n"
      ],
      "metadata": {
        "colab": {
          "base_uri": "https://localhost:8080/"
        },
        "id": "EqkaVsJSweu3",
        "outputId": "c6584e6c-4afb-4602-e60c-9fba7428adaa"
      },
      "execution_count": 1,
      "outputs": [
        {
          "output_type": "stream",
          "name": "stdout",
          "text": [
            "Variance of Profession A: 32.8\n",
            "Variance of Profession B: 15.7\n",
            "F-statistic: 2.0892\n",
            "p-value: 0.493\n",
            "Conclusion: Fail to reject the null hypothesis. No significant difference in variances.\n"
          ]
        }
      ]
    },
    {
      "cell_type": "code",
      "source": [
        "'''Q9.Question: Conduct a one-way ANOVA to test whether there are any statistically significant differences in\n",
        "average heights between three different regions with the following data\n",
        " Region A: [160, 162, 165, 158, 164\n",
        " Region B: [172, 175, 170, 168, 174\n",
        " Region C: [180, 182, 179, 185, 183\n",
        " Task: Write Python code to perform the one-way ANOVA and interpret the results\n",
        " Objective: Learn how to perform one-way ANOVA using Python and interpret F-statistic and p-value '''"
      ],
      "metadata": {
        "id": "_LixN14XXvKk"
      },
      "execution_count": null,
      "outputs": []
    },
    {
      "cell_type": "code",
      "source": [
        "from scipy.stats import f_oneway\n",
        "\n",
        "# Heights data\n",
        "region_A = [160, 162, 165, 158, 164]\n",
        "region_B = [172, 175, 170, 168, 174]\n",
        "region_C = [180, 182, 179, 185, 183]\n",
        "\n",
        "# Perform One-Way ANOVA\n",
        "f_statistic, p_value = f_oneway(region_A, region_B, region_C)\n",
        "\n",
        "# Print results\n",
        "print(\"F-statistic:\", round(f_statistic, 4))\n",
        "print(\"p-value:\", round(p_value, 4))\n",
        "\n",
        "# Interpretation\n",
        "alpha = 0.05\n",
        "if p_value < alpha:\n",
        "    print(\"Conclusion: Reject the null hypothesis. At least one region has a significantly different average height.\")\n",
        "else:\n",
        "    print(\"Conclusion: Fail to reject the null hypothesis. No significant difference in average heights between regions.\")\n"
      ],
      "metadata": {
        "colab": {
          "base_uri": "https://localhost:8080/"
        },
        "id": "CNwZyDoJxLgl",
        "outputId": "3e13ea2e-98f0-4853-a4a7-1c5863a142ed"
      },
      "execution_count": 2,
      "outputs": [
        {
          "output_type": "stream",
          "name": "stdout",
          "text": [
            "F-statistic: 67.8733\n",
            "p-value: 0.0\n",
            "Conclusion: Reject the null hypothesis. At least one region has a significantly different average height.\n"
          ]
        }
      ]
    }
  ]
}