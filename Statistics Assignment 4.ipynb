{
  "nbformat": 4,
  "nbformat_minor": 0,
  "metadata": {
    "colab": {
      "provenance": []
    },
    "kernelspec": {
      "name": "python3",
      "display_name": "Python 3"
    },
    "language_info": {
      "name": "python"
    }
  },
  "cells": [
    {
      "cell_type": "code",
      "execution_count": null,
      "metadata": {
        "id": "h4ripAu2Tlu8"
      },
      "outputs": [],
      "source": [
        "'''Q.1 What is hypothesis testing in statistics?'''"
      ]
    },
    {
      "cell_type": "markdown",
      "source": [
        "Definition:\n",
        "\n",
        "Hypothesis testing is a statistical method used to make decisions or inferences about a population based on sample data.\n",
        "\n",
        "Steps:\n",
        "1.\tState Hypotheses:\n",
        "o\tNull Hypothesis (H0H_0H0): No effect or no difference.\n",
        "o\tAlternative Hypothesis (H1H_1H1): There is an effect or difference.\n",
        "2.\tSet Significance Level (α\\alphaα):\n",
        "Commonly used: 0.05\n",
        "3.\tCalculate Test Statistic:\n",
        "Example: z-score or t-score.\n",
        "4.\tFind p-value:\n",
        "Probability of getting the observed result if H0H_0H0 is true.\n",
        "5.\tDecision:\n",
        "o\tIf p-value ≤ α → Reject H0H_0H0\n",
        "o\tIf p-value > α → Fail to reject H0H_0H0\n"
      ],
      "metadata": {
        "id": "sPklJfzDUQzt"
      }
    },
    {
      "cell_type": "code",
      "source": [
        "'''Q.2 What is the null hypothesis, and how does it differ from the alternative hypothesis?'''"
      ],
      "metadata": {
        "id": "_XjmxTxqUcNu"
      },
      "execution_count": null,
      "outputs": []
    },
    {
      "cell_type": "markdown",
      "source": [
        "**Null Hypothesis (H0H_0H0)**\n",
        "\n",
        "Meaning: Assumes no effect or no difference\n",
        "\n",
        "Purpose: Starting point for testing\n",
        "\n",
        "Decision Basis: Reject or fail to reject\n",
        "\n",
        "Example: H0H_0H0: Mean = 100\n",
        "\n",
        "\n",
        "**Alternative Hypothesis (H1H_1H1)**\n",
        "\n",
        "Meaning: Assumes effect or difference exists\n",
        "Purpose: Competing claim against H0H_0H0\n",
        "\n",
        "Decision Basis: Accepted if H0H_0H0 is rejected\n",
        "\n",
        "Example: H1H_1H1: Mean ≠ 100\n",
        "\n",
        "\n",
        "In Short:\n",
        "\n",
        "•\tNull Hypothesis (H₀): No change or effect\n",
        "\n",
        "•\tAlternative Hypothesis (H₁): There is a change or effect.\n"
      ],
      "metadata": {
        "id": "22JOmO_OUkgi"
      }
    },
    {
      "cell_type": "code",
      "source": [
        "'''Q.3 What is the significance level in hypothesis testing, and why is it important?'''"
      ],
      "metadata": {
        "id": "y2kje5U8WAEq"
      },
      "execution_count": null,
      "outputs": []
    },
    {
      "cell_type": "markdown",
      "source": [
        "Definition:\n",
        "\n",
        "The significance level (denoted as α) is the probability of rejecting the null hypothesis when it is actually true.\n",
        "\n",
        "Common Values:\n",
        "\n",
        "Typically α = 0.05, 0.01, or 0.10.\n",
        "\n",
        "Importance:\n",
        "\n",
        "•\tIt sets the threshold for decision-making.\n",
        "\n",
        "•\tControls the risk of Type I error (false positive).\n",
        "\n",
        "•\tA lower α means stricter testing (less chance of accidental rejection).\n",
        "\n",
        "In Short:\n",
        "\n",
        "•\tSignificance level (α): Cut-off to accept or reject H0H_0H0.\n",
        "\n",
        "•\tImportant: It controls the chance of making a wrong decision.\n"
      ],
      "metadata": {
        "id": "EioTTVwsWIn9"
      }
    },
    {
      "cell_type": "code",
      "source": [
        "'''Q.4 What does a P-value represent in hypothesis testing?'''"
      ],
      "metadata": {
        "id": "wcwvujnHWhpZ"
      },
      "execution_count": null,
      "outputs": []
    },
    {
      "cell_type": "markdown",
      "source": [
        "Definition:\n",
        "\n",
        "The p-value is the probability of getting the observed result (or more extreme) if the null hypothesis (H0H_0H0) is true.\n",
        "Meaning:\n",
        "\n",
        "•\tSmall p-value (≤ α): Strong evidence against H0H_0H0 → Reject H0H_0H0\n",
        "\n",
        "•\tLarge p-value (> α): Weak evidence against H0H_0H0 → Fail to reject H0H_0H0\n",
        "\n",
        "•\tP-value shows: How likely your result is if H0H_0H0 is true.\n",
        "\n",
        "•\tSmaller p-value → More significant result.\n"
      ],
      "metadata": {
        "id": "pzHLrOJpWwJp"
      }
    },
    {
      "cell_type": "code",
      "source": [
        "'''Q.5 How do you interpret the P-value in hypothesis testing?'''"
      ],
      "metadata": {
        "id": "IeLEJeQgW3oS"
      },
      "execution_count": null,
      "outputs": []
    },
    {
      "cell_type": "markdown",
      "source": [
        "**P-Value: p ≤ 0.05**\n",
        "\n",
        "Interpretation: Strong evidence against H0\n",
        "\n",
        "Decision (at α = 0.05): Reject the null hypothesis (H0)\n",
        "\n",
        "**P-Value: p > 0.05**\n",
        "\n",
        "Interpretation: Weak evidence against H0\n",
        "\n",
        "Decision (at α = 0.05): Fail to reject the null hypothesis\n",
        "\n",
        "\n",
        "In Short:\n",
        "•\tSmall p-value (≤ 0.05): Result is statistically significant → Reject H0H_0H0\n",
        "\n",
        "•\tLarge p-value (> 0.05): Result is not statistically significant → Fail to reject H0H_0H0\n",
        "\n",
        "P-value tells us:\n",
        "\n",
        "How likely the observed data would happen if the null hypothesis is true.\n"
      ],
      "metadata": {
        "id": "OmCZlzgCW_nv"
      }
    },
    {
      "cell_type": "code",
      "source": [
        "'''Q.6 What are Type 1 and Type 2 errors in hypothesis testing?'''"
      ],
      "metadata": {
        "id": "InZPFryfYAl3"
      },
      "execution_count": null,
      "outputs": []
    },
    {
      "cell_type": "markdown",
      "source": [
        "**Type I Error:**\n",
        "•\tHappens when we reject the null hypothesis (H₀) even though it is actually true.\n",
        "\n",
        "•\tIt is also called a false positive.\n",
        "\n",
        "•\tExample: Saying a patient is sick when they are actually healthy.\n",
        "\n",
        "•\tThe probability of making a Type I error is the significance level (α)\n",
        "\n",
        "**Type II Error:**\n",
        "•\tHappens when we fail to reject the null hypothesis (H₀) even though it is actually false.\n",
        "\n",
        "•\tIt is also called a false negative.\n",
        "\n",
        "•\tExample: Saying a patient is healthy when they are actually sick.\n",
        "\n",
        "•\tThe probability of making a Type II error is called beta (β).\n",
        "\n",
        "In Short:\n",
        "\n",
        "•\tType I Error: Rejecting a true null hypothesis.\n",
        "\n",
        "•\tType II Error: Accepting a false null hypothesis.\n"
      ],
      "metadata": {
        "id": "4fBACrpdYH6C"
      }
    },
    {
      "cell_type": "code",
      "source": [
        "'''Q.7 What is the difference between a one-tailed and a two-tailed test in hypothesis testing?'''"
      ],
      "metadata": {
        "id": "5bSxYuXLYktE"
      },
      "execution_count": null,
      "outputs": []
    },
    {
      "cell_type": "markdown",
      "source": [
        "**One-Tailed Test:**\n",
        "\n",
        "•\tTests if the effect is only in one direction (greater than or less than).\n",
        "\n",
        "•\tExample: Testing if the mean is greater than 100.\n",
        "\n",
        "**Two-Tailed Test:**\n",
        "\n",
        "•\tTests if the effect is in either direction (greater than or less than).\n",
        "\n",
        "•\tExample: Testing if the mean is not equal to 100.\n",
        "\n",
        "In Short:\n",
        "\n",
        "•\tOne-Tailed Test: Checks effect in one specific direction.\n",
        "\n",
        "•\tTwo-Tailed Test: Checks effect in both directions.\n"
      ],
      "metadata": {
        "id": "FlrvJAJXYsbc"
      }
    },
    {
      "cell_type": "code",
      "source": [
        "'''Q.8 What is the Z-test, and when is it used in hypothesis testing?'''"
      ],
      "metadata": {
        "id": "rz_eF6BrY992"
      },
      "execution_count": null,
      "outputs": []
    },
    {
      "cell_type": "markdown",
      "source": [
        "Definition:\n",
        "\n",
        "The Z-test is a statistical test used to check whether there is a significant difference between sample data and the population.\n",
        "\n",
        "When to Use:\n",
        "\n",
        "•\tWhen population standard deviation (σ) is known.\n",
        "\n",
        "•\tWhen sample size is large (n > 30).\n",
        "\n",
        "•\tWhen data is normally distributed or sample is large enough (Central Limit Theorem).\n",
        "\n",
        "In Short:\n",
        "\n",
        "•\tZ-test is used when σ is known and the sample is large to test if the sample mean differs from the population mean.\n"
      ],
      "metadata": {
        "id": "SQgTCfrKZFvg"
      }
    },
    {
      "cell_type": "code",
      "source": [
        "'''Q.9 How do you calculate the Z-score, and what does it represent in hypothesis testing?'''"
      ],
      "metadata": {
        "id": "pS-xgK6OZRbb"
      },
      "execution_count": null,
      "outputs": []
    },
    {
      "cell_type": "markdown",
      "source": [
        "Formula:\n",
        "\n",
        "z = ( x̄ - μ₀ ) / (σ / √n)\n",
        "\n",
        "Where:\n",
        "•\tXˉ = Sample mean\n",
        "\n",
        "•\tμ = Population mean\n",
        "\n",
        "•\tσ = Population standard deviation\n",
        "\n",
        "•\tn  = Sample size\n",
        "\n",
        "What Z-Score Represents:\n",
        "\n",
        "•\tZ-score shows how many standard deviations the sample mean is away from the population mean.\n",
        "\n",
        "•\tIt tells us how unusual or typical the sample result is under the null hypothesis.\n",
        "\n",
        "In Short:\n",
        "\n",
        "•\tZ-score measures distance from the mean.\n",
        "\n",
        "•\tIt helps decide whether to accept or reject the null hypothesis in hypothesis testing.\n"
      ],
      "metadata": {
        "id": "s-NAvC6dZXzY"
      }
    },
    {
      "cell_type": "code",
      "source": [
        "'''Q.10 What is the T-distribution, and when should it be used instead of the normal distribution?'''"
      ],
      "metadata": {
        "id": "RDikWaaybAim"
      },
      "execution_count": null,
      "outputs": []
    },
    {
      "cell_type": "markdown",
      "source": [
        "Definition:\n",
        "\n",
        "The T-distribution is a probability distribution used when sample sizes are small and the population standard deviation is unknown.\n",
        "\n",
        "When to Use T-Distribution:\n",
        "\n",
        "•\tWhen sample size is small (n ≤ 30).\n",
        "\n",
        "•\tWhen population standard deviation (σ) is unknown.\n",
        "\n",
        "•\tWhen data is approximately normally distributed.\n",
        "\n",
        "Difference from Normal Distribution:\n",
        "\n",
        "•\tT-distribution has wider tails than the normal distribution.\n",
        "\n",
        "•\tIt gives more accurate results for small samples\n",
        "\n",
        "In Short:\n",
        "\n",
        "•\tUse T-distribution: Small sample, σ unknown.\n",
        "\n",
        "•\tUse Normal distribution: Large sample, σ known.\n"
      ],
      "metadata": {
        "id": "zYkmqoUjbLcR"
      }
    },
    {
      "cell_type": "code",
      "source": [
        "'''Q.11 What is the difference between a Z-test and a T-test?'''"
      ],
      "metadata": {
        "id": "ttb3qnf1bkJT"
      },
      "execution_count": null,
      "outputs": []
    },
    {
      "cell_type": "markdown",
      "source": [
        "**Z-Test:**\n",
        "\n",
        "•\tUsed when population standard deviation (σ) is known.\n",
        "\n",
        "•\tUsed for large samples (n > 30).\n",
        "\n",
        "•\tBased on normal distribution.\n",
        "\n",
        "**T-Test:**\n",
        "\n",
        "•\tUsed when population standard deviation (σ) is unknown.\n",
        "\n",
        "•\tUsed for small samples (n ≤ 30).\n",
        "\n",
        "•\tBased on t-distribution (wider tails).\n",
        "\n",
        "In Short:\n",
        "•\tZ-Test: Large sample, σ known.\n",
        "\n",
        "•\tT-Test: Small sample, σ unknown.\n"
      ],
      "metadata": {
        "id": "nvQF6Q95bq5L"
      }
    },
    {
      "cell_type": "code",
      "source": [
        "'''Q.12 What is the T-test, and how is it used in hypothesis testing?'''"
      ],
      "metadata": {
        "id": "-iDSzugKb5KO"
      },
      "execution_count": null,
      "outputs": []
    },
    {
      "cell_type": "markdown",
      "source": [
        "Definition:\n",
        "\n",
        "The T-test is a statistical test used to compare sample data to a population or to compare two sample means when the population standard deviation is unknown.\n",
        "\n",
        "When to Use:\n",
        "\n",
        "•\tSmall samples (n ≤ 30).\n",
        "\n",
        "•\tPopulation standard deviation (σ) is unknown.\n",
        "\n",
        "How it is Used in Hypothesis Testing:\n",
        "\n",
        "1.\tSet Hypotheses:\n",
        "\n",
        "Null Hypothesis (H0H_0H0): No difference.\n",
        "\n",
        " Alternative Hypothesis (H1H_1H1): There is a difference.\n",
        "\n",
        "2.\tCalculate T-Statistic:\n",
        "\n",
        " t = (x̄ - μ) / (s / √n)\n",
        "\n",
        "3.\tFind p-value or compare with critical t-value.\n",
        "\n",
        "4.\tDecision:\n",
        "\n",
        "If |t| > critical value → Reject H0H_0H0\n",
        "\n",
        "If |t| ≤ critical value → Fail to reject H0H_0H0\n",
        "\n",
        "In Short:\n",
        "\n",
        "•\tT-Test compares means when σ is unknown and the sample is small.\n",
        "\n",
        "•\tIt helps decide to accept or reject the null hypothesis.\n"
      ],
      "metadata": {
        "id": "_4Q5VdHIcAq0"
      }
    },
    {
      "cell_type": "code",
      "source": [
        "'''Q.13 What is the relationship between Z-test and T-test in hypothesis testing?'''"
      ],
      "metadata": {
        "id": "tKgFggYrdvl_"
      },
      "execution_count": null,
      "outputs": []
    },
    {
      "cell_type": "markdown",
      "source": [
        "Common Purpose:\n",
        "\n",
        "•\tBoth Z-test and T-test are used to test hypotheses about population means.\n",
        "\n",
        "•\tBoth help determine if sample results are statistically significant.\n",
        "\n",
        "Key Difference:\n",
        "\n",
        "•\tZ-Test: Used when population standard deviation (σ) is known and sample size is large.\n",
        "\n",
        "•\tT-Test: Used when σ is unknown and sample size is small.\n",
        "\n",
        "Relationship:\n",
        "\n",
        "•\tAs sample size increases, the T-distribution approaches the normal distribution.\n",
        "\n",
        "•\tWhen the sample is large, T-test and Z-test give similar results.\n",
        "\n",
        "In Short:\n",
        "\n",
        "•\tBoth tests are similar tools for hypothesis testing.\n",
        "\n",
        "•\tZ-test for large samples or known σ, T-test for small samples or unknown σ.\n",
        "\n",
        "•\tT-test becomes like Z-test as the sample size grows.\n"
      ],
      "metadata": {
        "id": "oyqt5UWsd746"
      }
    },
    {
      "cell_type": "code",
      "source": [
        "'''Q.14 What is a confidence interval, and how is it used to interpret statistical results?'''"
      ],
      "metadata": {
        "id": "Z0CsoDPIeHcK"
      },
      "execution_count": null,
      "outputs": []
    },
    {
      "cell_type": "markdown",
      "source": [
        "Definition:\n",
        "\n",
        "A confidence interval (CI) is a range of values that is likely to contain the true population parameter (like the mean) with a certain level of confidence.\n",
        "\n",
        "How It Is Used:\n",
        "\n",
        "•\tCommon confidence levels: 90%, 95%, 99%.\n",
        "\n",
        "•\tExample: A 95% CI means we are 95% confident the true value lies within this range.\n",
        "\n",
        "•\tIf the CI does not include the hypothesized value → reject the null hypothesis.\n",
        "\n",
        "In Short:\n",
        "\n",
        "•\tA confidence interval shows the possible range for the true population value.\n",
        "\n",
        "•\tIt helps understand how precise the estimate is in hypothesis testing.\n"
      ],
      "metadata": {
        "id": "GAOOD2pueNbk"
      }
    },
    {
      "cell_type": "code",
      "source": [
        "'''Q.15 What is the margin of error, and how does it affect the confidence interval?'''"
      ],
      "metadata": {
        "id": "6vsXy2I8eVpB"
      },
      "execution_count": null,
      "outputs": []
    },
    {
      "cell_type": "markdown",
      "source": [
        "Definition:\n",
        "\n",
        "The margin of error (MOE) is the amount added and subtracted from the sample statistic to create the confidence interval.\n",
        "It shows how much the estimate may vary from the true population value.\n",
        "\n",
        "Effect on Confidence Interval:\n",
        "\n",
        "•\tLarger margin of error → Wider confidence interval → Less precise.\n",
        "\n",
        "•\tSmaller margin of error → Narrower confidence interval → More precise.\n",
        "\n",
        "In Short:\n",
        "•\tMargin of Error controls the width of the confidence interval.\n",
        "\n",
        "•\tBigger MOE = Less precision, Smaller MOE = More precision.\n"
      ],
      "metadata": {
        "id": "Nvv-wgGgebBB"
      }
    },
    {
      "cell_type": "code",
      "source": [
        "'''Q.16 How is Bayes' Theorem used in statistics, and what is its significance?'''"
      ],
      "metadata": {
        "id": "qLZ65GPQeiHG"
      },
      "execution_count": null,
      "outputs": []
    },
    {
      "cell_type": "markdown",
      "source": [
        "Definition:\n",
        "\n",
        "Bayes' Theorem is used to update the probability of an event based on new information.\n",
        "\n",
        "Formula:\n",
        "\n",
        "P(A|B) = P(B|A) × P(A) /P(B)\n",
        "\n",
        "Use in Statistics:\n",
        "\n",
        "•\tHelps revise probabilities when new data is available.\n",
        "\n",
        "•\tUsed in medical testing, machine learning, and decision making.\n",
        "\n",
        "Significance:\n",
        "\n",
        "•\tIt gives a dynamic way to calculate probabilities.\n",
        "\n",
        "•\tAllows us to combine prior knowledge with new evidence.\n",
        "\n",
        "In Short:\n",
        "\n",
        "Bayes' Theorem updates the probability of an event using new data and is important for real-time, evidence-based decisions.\n"
      ],
      "metadata": {
        "id": "qOvTSNmzerYl"
      }
    },
    {
      "cell_type": "code",
      "source": [
        "'''Q.17 What is the Chi-square distribution, and when is it used?'''"
      ],
      "metadata": {
        "id": "VITrNnaqfPtM"
      },
      "execution_count": null,
      "outputs": []
    },
    {
      "cell_type": "markdown",
      "source": [
        "Definition:\n",
        "\n",
        "The Chi-square distribution is a probability distribution used to test relationships between categorical variables.\n",
        "\n",
        "When It Is Used:\n",
        "\n",
        "•\tGoodness-of-Fit Test: Checks if observed data matches expected data.\n",
        "\n",
        "•\tTest of Independence: Checks if two categorical variables are related.\n",
        "\n",
        "•\tUsed for categorical data.\n",
        "\n",
        "In Short:\n",
        "\n",
        "The Chi-square distribution is used to test the fit or association in categorical data and helps see if differences are due to chance.\n"
      ],
      "metadata": {
        "id": "Tf1HfKmhfbCc"
      }
    },
    {
      "cell_type": "code",
      "source": [
        "'''Q.18 What is the Chi-square goodness of fit test, and how is it applied?'''"
      ],
      "metadata": {
        "id": "WTpQ9vvJfizv"
      },
      "execution_count": null,
      "outputs": []
    },
    {
      "cell_type": "markdown",
      "source": [
        "Definition:\n",
        "\n",
        "The Chi-square goodness of fit test checks whether the observed frequencies match the expected frequencies for a categorical variable.\n",
        "\n",
        "How It Is Applied:\n",
        "\n",
        "1.\tSet Hypotheses:\n",
        "\n",
        "Null Hypothesis (H0): Observed and expected frequencies are the same.\n",
        "\n",
        "Alternative Hypothesis (H1): Observed and expected frequencies are different.\n",
        "\n",
        "2.\tCalculate Chi-Square Statistic:\n",
        "\n",
        "x^ 2 = sum ((O - E) ^ 2)/E\n",
        "\n",
        "Where:\n",
        "\n",
        "O = Observed frequency\n",
        "\n",
        "E = Expected frequency\n",
        "\n",
        "3.\tCompare with Critical Value:\n",
        "\n",
        "Use the Chi-square table to find the critical value based on degrees of freedom.\n",
        "\n",
        "4.\tDecision:\n",
        "If calculated Chi-square > critical value → Reject H0\n"
      ],
      "metadata": {
        "id": "petP2Vojfom1"
      }
    },
    {
      "cell_type": "code",
      "source": [
        "'''Q.19 What is the F-distribution, and when is it used in hypothesis testing?'''"
      ],
      "metadata": {
        "id": "-I1_9emmg1lx"
      },
      "execution_count": null,
      "outputs": []
    },
    {
      "cell_type": "markdown",
      "source": [
        "Definition:\n",
        "\n",
        "The F-distribution is a probability distribution used to compare two variances.\n",
        "\n",
        "When It Is Used:\n",
        "\n",
        "•\tIn ANOVA (Analysis of Variance) to test differences between multiple group means.\n",
        "\n",
        "•\tIn tests comparing variances of two samples.\n",
        "\n",
        "•\tUsed when sample sizes are small or unequal.\n",
        "\n",
        "In Short:\n",
        "\n",
        "The F-distribution is used in hypothesis testing to:\n",
        "\n",
        "•\tCompare variances\n",
        "\n",
        "•\tTest group differences (especially in ANOVA)\n"
      ],
      "metadata": {
        "id": "hQrQV0wfg_Ev"
      }
    },
    {
      "cell_type": "code",
      "source": [
        "'''Q.20 What is an ANOVA test, and what are its assumptions?'''"
      ],
      "metadata": {
        "id": "S4jOF5m_hLbB"
      },
      "execution_count": null,
      "outputs": []
    },
    {
      "cell_type": "markdown",
      "source": [
        "Definition:\n",
        "\n",
        "The ANOVA (Analysis of Variance) test is used to compare the means of three or more groups to see if at least one group mean is different.\n",
        "\n",
        "Assumptions of ANOVA:\n",
        "\n",
        "1.\tIndependence: Samples must be independent.\n",
        "\n",
        "2.\tNormality: Data in each group should be approximately normally distributed.\n",
        "\n",
        "3.\tEqual Variance (Homogeneity): All groups should have similar variances.\n",
        "\n",
        "In Short:\n",
        "\n",
        "•\tANOVA tests differences between multiple group means.\n",
        "\n",
        "•\tAssumes independence, normality, and equal variances.\n"
      ],
      "metadata": {
        "id": "gQiBxwXAhTIy"
      }
    },
    {
      "cell_type": "code",
      "source": [
        "'''Q.21 What are the different types of ANOVA tests?'''"
      ],
      "metadata": {
        "id": "qz3f1BQXhdBn"
      },
      "execution_count": null,
      "outputs": []
    },
    {
      "cell_type": "markdown",
      "source": [
        "Types of ANOVA Tests\n",
        "\n",
        "1.\tOne-Way ANOVA:\n",
        "\n",
        "Compares means of three or more groups based on one independent variable.\n",
        "2.\tTwo-Way ANOVA:\n",
        "\n",
        "Compares means based on two independent variables.\n",
        "\n",
        "Checks interaction between the two factors.\n",
        "\n",
        "3.\tRepeated Measures ANOVA:\n",
        "\n",
        "Used when the same subjects are tested under different conditions or times.\n",
        "\n",
        "In Short:\n",
        "\n",
        "•\tOne-Way ANOVA: One factor\n",
        "\n",
        "•\tTwo-Way ANOVA: Two factors\n",
        "\n",
        "•\tRepeated Measures ANOVA: Same subjects, multiple tests\n"
      ],
      "metadata": {
        "id": "KTZuVHxPhkWU"
      }
    },
    {
      "cell_type": "code",
      "source": [
        "'''Q.22 What is the F-test, and how does it relate to hypothesis testing?'''"
      ],
      "metadata": {
        "id": "ERVEhU3mh494"
      },
      "execution_count": null,
      "outputs": []
    },
    {
      "cell_type": "markdown",
      "source": [
        "Definition:\n",
        "\n",
        "The F-test is a statistical test used to compare two variances or to test if multiple group means are significantly different (as in ANOVA).\n",
        "\n",
        "How It Relates to Hypothesis Testing:\n",
        "\n",
        "•\tNull Hypothesis (H0H_0): The variances (or means in ANOVA) are equal.\n",
        "\n",
        "•\tAlternative Hypothesis (H1H_1): The variances (or at least one mean) are different.\n",
        "\n",
        "•\tThe F-statistic is calculated and compared to a critical value from the F-distribution table.\n",
        "\n",
        "•\tIf F > critical value → Reject H0H_0\n",
        "\n",
        "In Short:\n",
        "\n",
        "The F-test compares variances or means and is mainly used in ANOVA to check if group differences are statistically significant.\n"
      ],
      "metadata": {
        "id": "Oymwt5I9iB7Q"
      }
    },
    {
      "cell_type": "code",
      "source": [
        "# PRACTICAL"
      ],
      "metadata": {
        "id": "l6u7kDo0iOQT"
      },
      "execution_count": null,
      "outputs": []
    },
    {
      "cell_type": "code",
      "source": [
        "'''Q.1 Write a Python program to perform a Z-test for comparing a sample mean to a known population mean and interpret the results'''"
      ],
      "metadata": {
        "id": "EKBF7ajbiVNG"
      },
      "execution_count": null,
      "outputs": []
    },
    {
      "cell_type": "code",
      "source": [
        "import scipy.stats as stats\n",
        "\n",
        "# Given Data\n",
        "sample_mean = 105       # Sample mean\n",
        "population_mean = 100   # Population mean\n",
        "std_dev = 15            # Population standard deviation\n",
        "sample_size = 30        # Sample size\n",
        "alpha = 0.05            # Significance level\n",
        "\n",
        "# Step 1: Calculate Z-Score\n",
        "z_score = (sample_mean - population_mean) / (std_dev / (sample_size ** 0.5))\n",
        "\n",
        "# Step 2: Calculate P-Value (two-tailed test)\n",
        "p_value = 2 * (1 - stats.norm.cdf(abs(z_score)))\n",
        "\n",
        "# Step 3: Interpret the result\n",
        "if p_value < alpha:\n",
        "    decision = \"Reject the null hypothesis\"\n",
        "else:\n",
        "    decision = \"Fail to reject the null hypothesis\"\n",
        "\n",
        "# Step 4: Display results\n",
        "print(f\"Z-Score: {z_score}\")\n",
        "print(f\"P-Value: {p_value}\")\n",
        "print(f\"Decision: {decision}\")\n"
      ],
      "metadata": {
        "colab": {
          "base_uri": "https://localhost:8080/"
        },
        "id": "jK_Oq24HimLS",
        "outputId": "0ea8ec8b-56db-4c1c-fcb7-191d6cc0c5e8"
      },
      "execution_count": 1,
      "outputs": [
        {
          "output_type": "stream",
          "name": "stdout",
          "text": [
            "Z-Score: 1.8257418583505538\n",
            "P-Value: 0.067889154861829\n",
            "Decision: Fail to reject the null hypothesis\n"
          ]
        }
      ]
    },
    {
      "cell_type": "markdown",
      "source": [
        "How to Interpret:\n",
        "\n",
        "•\tIf p-value ≤ 0.05 → Reject H0 → Significant difference.\n",
        "\n",
        "•\tIf p-value > 0.05 → Fail to reject H0 → No significant difference.\n",
        "\n",
        "In Short:\n",
        "\n",
        "This Python program calculates the z-score, p-value, and decision for a hypothesis test using a Z-test.\n"
      ],
      "metadata": {
        "id": "zDssCqqHi7X1"
      }
    },
    {
      "cell_type": "code",
      "source": [],
      "metadata": {
        "id": "l6E86-SCjKkK"
      },
      "execution_count": null,
      "outputs": []
    },
    {
      "cell_type": "code",
      "source": [
        "'''Q.2 Simulate random data to perform hypothesis testing and calculate the corresponding P-value using Python'''"
      ],
      "metadata": {
        "id": "5_HE2MeLjC1Z"
      },
      "execution_count": null,
      "outputs": []
    },
    {
      "cell_type": "code",
      "source": [
        "import numpy as np\n",
        "from scipy import stats\n",
        "\n",
        "# Step 1: Simulate random data\n",
        "np.random.seed(0)  # For reproducibility\n",
        "sample_data = np.random.normal(loc=52, scale=5, size=30)  # Random sample\n",
        "\n",
        "# Known population mean\n",
        "population_mean = 50\n",
        "alpha = 0.05  # Significance level\n",
        "\n",
        "# Step 2: Perform one-sample t-test\n",
        "t_statistic, p_value = stats.ttest_1samp(sample_data, population_mean)\n",
        "\n",
        "# Step 3: Interpret the result\n",
        "if p_value < alpha:\n",
        "    decision = \"Reject the null hypothesis\"\n",
        "else:\n",
        "    decision = \"Fail to reject the null hypothesis\"\n",
        "\n",
        "# Step 4: Display results\n",
        "print(f\"Sample Mean: {np.mean(sample_data)}\")\n",
        "print(f\"T-Statistic: {t_statistic}\")\n",
        "print(f\"P-Value: {p_value}\")\n",
        "print(f\"Decision: {decision}\")\n",
        "\n"
      ],
      "metadata": {
        "colab": {
          "base_uri": "https://localhost:8080/"
        },
        "id": "QtGniFHIjMIB",
        "outputId": "90c27c00-e6cf-4fce-d314-8f15d61dd770"
      },
      "execution_count": 2,
      "outputs": [
        {
          "output_type": "stream",
          "name": "stdout",
          "text": [
            "Sample Mean: 54.21428223631587\n",
            "T-Statistic: 4.195579082381902\n",
            "P-Value: 0.00023467104623457576\n",
            "Decision: Reject the null hypothesis\n"
          ]
        }
      ]
    },
    {
      "cell_type": "markdown",
      "source": [
        "Explanation:\n",
        "\n",
        "•\tStep 1: Random data is generated from a normal distribution with a mean of 52 and a standard deviation of 5.\n",
        "\n",
        "•\tStep 2: A t-test is performed to compare the sample mean to the known population mean (50).\n",
        "\n",
        "•\tStep 3: The p-value is used to decide whether to reject or fail to reject the null hypothesis.\n",
        "\n",
        "In Short:\n",
        "\n",
        "This program simulates random data, calculates the t-statistic and p-value, and interprets the hypothesis test result.\n"
      ],
      "metadata": {
        "id": "ipf1oYPTjRhp"
      }
    },
    {
      "cell_type": "code",
      "source": [
        "'''Q.3 Implement a one-sample Z-test using Python to compare the sample mean with the population mean'''"
      ],
      "metadata": {
        "id": "BEjI7v6RjabS"
      },
      "execution_count": null,
      "outputs": []
    },
    {
      "cell_type": "code",
      "source": [
        "import numpy as np\n",
        "from scipy.stats import norm\n",
        "\n",
        "# Step 1: Sample Data (Example)\n",
        "sample_data = np.array([102, 98, 105, 100, 99, 104, 101, 97, 103, 100])\n",
        "\n",
        "# Step 2: Given values\n",
        "population_mean = 100\n",
        "population_std_dev = 5  # Known population standard deviation\n",
        "alpha = 0.05  # Significance level\n",
        "\n",
        "# Step 3: Calculate sample statistics\n",
        "sample_mean = np.mean(sample_data)\n",
        "sample_size = len(sample_data)\n",
        "\n",
        "# Step 4: Calculate Z-score\n",
        "z_score = (sample_mean - population_mean) / (population_std_dev / np.sqrt(sample_size))\n",
        "\n",
        "# Step 5: Calculate p-value (two-tailed test)\n",
        "p_value = 2 * (1 - norm.cdf(abs(z_score)))\n",
        "\n",
        "# Step 6: Interpret the result\n",
        "if p_value < alpha:\n",
        "    decision = \"Reject the null hypothesis\"\n",
        "else:\n",
        "    decision = \"Fail to reject the null hypothesis\"\n",
        "\n",
        "# Step 7: Display results\n",
        "print(f\"Sample Mean: {sample_mean}\")\n",
        "print(f\"Z-Score: {z_score}\")\n",
        "print(f\"P-Value: {p_value}\")\n",
        "print(f\"Decision: {decision}\")\n"
      ],
      "metadata": {
        "colab": {
          "base_uri": "https://localhost:8080/"
        },
        "id": "pMlZTun9jifM",
        "outputId": "dd3440f8-c29d-492f-80d7-f535d1073fd3"
      },
      "execution_count": 3,
      "outputs": [
        {
          "output_type": "stream",
          "name": "stdout",
          "text": [
            "Sample Mean: 100.9\n",
            "Z-Score: 0.5692099788303119\n",
            "P-Value: 0.5692136494737086\n",
            "Decision: Fail to reject the null hypothesis\n"
          ]
        }
      ]
    },
    {
      "cell_type": "markdown",
      "source": [
        "In Short:\n",
        "\n",
        "This Python program:\n",
        "\n",
        "•\tCompares the sample mean to the population mean.\n",
        "\n",
        "•\tCalculates the z-score and p-value.\n",
        "\n",
        "•\tHelps decide whether to accept or reject the null hypothesis.\n"
      ],
      "metadata": {
        "id": "IK5gM-Asjp5Y"
      }
    },
    {
      "cell_type": "code",
      "source": [
        "'''Q.4 Perform a two-tailed Z-test using Python and visualize the decision region on a plot?'''"
      ],
      "metadata": {
        "id": "llwwgdfTjv_S"
      },
      "execution_count": null,
      "outputs": []
    },
    {
      "cell_type": "code",
      "source": [
        "import numpy as np\n",
        "import matplotlib.pyplot as plt\n",
        "from scipy.stats import norm\n",
        "\n",
        "# Step 1: Sample Data (Example)\n",
        "sample_data = np.array([102, 98, 105, 100, 99, 104, 101, 97, 103, 100])\n",
        "\n",
        "# Step 2: Given values\n",
        "population_mean = 100\n",
        "population_std_dev = 5  # Known population standard deviation\n",
        "alpha = 0.05  # Significance level\n",
        "\n",
        "# Step 3: Calculate sample statistics\n",
        "sample_mean = np.mean(sample_data)\n",
        "sample_size = len(sample_data)\n",
        "\n",
        "# Step 4: Calculate Z-score\n",
        "z_score = (sample_mean - population_mean) / (population_std_dev / np.sqrt(sample_size))\n",
        "\n",
        "# Step 5: Calculate p-value (two-tailed)\n",
        "p_value = 2 * (1 - norm.cdf(abs(z_score)))\n",
        "\n",
        "# Step 6: Critical Z value for two-tailed test\n",
        "z_critical = norm.ppf(1 - alpha / 2)\n",
        "\n",
        "# Step 7: Display results\n",
        "print(f\"Sample Mean: {sample_mean}\")\n",
        "print(f\"Z-Score: {z_score}\")\n",
        "print(f\"P-Value: {p_value}\")\n",
        "if abs(z_score) > z_critical:\n",
        "    print(\"Decision: Reject the null hypothesis\")\n",
        "else:\n",
        "    print(\"Decision: Fail to reject the null hypothesis\")\n",
        "\n",
        "# Step 8: Plot the decision regions\n",
        "x = np.linspace(-4, 4, 1000)\n",
        "y = norm.pdf(x, 0, 1)\n",
        "\n",
        "plt.figure(figsize=(10, 6))\n",
        "plt.plot(x, y, label='Standard Normal Distribution', color='blue')\n",
        "\n",
        "# Shade the rejection regions\n",
        "plt.fill_between(x, y, where=(x <= -z_critical), color='red', alpha=0.5, label='Rejection Region (Left)')\n",
        "plt.fill_between(x, y, where=(x >= z_critical), color='red', alpha=0.5, label='Rejection Region (Right)')\n",
        "\n",
        "# Plot the calculated z-score\n",
        "plt.axvline(z_score, color='green', linestyle='--', label=f'Z-Score = {z_score:.2f}')\n",
        "\n",
        "# Labels and legend\n",
        "plt.title('Two-Tailed Z-Test Decision Regions')\n",
        "plt.xlabel('Z-Score')\n",
        "plt.ylabel('Probability Density')\n",
        "plt.legend()\n",
        "plt.grid(True)\n",
        "plt.show()\n"
      ],
      "metadata": {
        "colab": {
          "base_uri": "https://localhost:8080/",
          "height": 637
        },
        "id": "PySgRxkbj27x",
        "outputId": "9ac1b85c-2bd4-4d07-9c25-8e8038f68379"
      },
      "execution_count": 4,
      "outputs": [
        {
          "output_type": "stream",
          "name": "stdout",
          "text": [
            "Sample Mean: 100.9\n",
            "Z-Score: 0.5692099788303119\n",
            "P-Value: 0.5692136494737086\n",
            "Decision: Fail to reject the null hypothesis\n"
          ]
        },
        {
          "output_type": "display_data",
          "data": {
            "text/plain": [
              "<Figure size 1000x600 with 1 Axes>"
            ],
            "image/png": "[encoded data removed]"
          },
          "metadata": {}
        }
      ]
    },
    {
      "cell_type": "markdown",
      "source": [
        "Explanation:\n",
        "\n",
        "•\tTwo-tailed test: Tests for differences in both directions.\n",
        "\n",
        "•\tRejection region: On both sides beyond the critical z-value.\n",
        "\n",
        "•\tThe plot clearly shows:\n",
        "\n",
        "Standard normal curve.\n",
        "\n",
        "Rejection regions in red.\n",
        "\n",
        "Calculated z-score as a dashed green line.\n",
        "\n",
        "In Short:\n",
        "\n",
        "This Python program performs a two-tailed Z-test, calculates the p-value, and plots the decision regions to visualize where the test statistic falls.\n"
      ],
      "metadata": {
        "id": "DfEIN7Hbj_Gk"
      }
    },
    {
      "cell_type": "code",
      "source": [
        "'''Q.5 Create a Python function that calculates and visualizes Type 1 and Type 2 errors during hypothesis testing'''"
      ],
      "metadata": {
        "id": "6xgNq9fykSt-"
      },
      "execution_count": null,
      "outputs": []
    },
    {
      "cell_type": "code",
      "source": [
        "import numpy as np\n",
        "import matplotlib.pyplot as plt\n",
        "from scipy.stats import norm\n",
        "\n",
        "def visualize_type1_type2(pop_mean, pop_std, sample_size, alpha, true_mean):\n",
        "    # Calculate critical Z-value for two-tailed test\n",
        "    z_critical = norm.ppf(1 - alpha / 2)\n",
        "\n",
        "    # Calculate standard error\n",
        "    se = pop_std / np.sqrt(sample_size)\n",
        "\n",
        "    # Calculate critical values on x-axis\n",
        "    critical_left = pop_mean - z_critical * se\n",
        "    critical_right = pop_mean + z_critical * se\n",
        "\n",
        "    # Generate x-axis range\n",
        "    x = np.linspace(pop_mean - 4*se, pop_mean + 4*se, 1000)\n",
        "    x_true = np.linspace(true_mean - 4*se, true_mean + 4*se, 1000)\n",
        "\n",
        "    # Standard normal distributions under H0 and H1\n",
        "    y_null = norm.pdf(x, pop_mean, se)\n",
        "    y_alt = norm.pdf(x_true, true_mean, se)\n",
        "\n",
        "    plt.figure(figsize=(12, 6))\n",
        "\n",
        "    # Plot null hypothesis distribution\n",
        "    plt.plot(x, y_null, label='Null Hypothesis (H₀)', color='blue')\n",
        "\n",
        "    # Plot alternative hypothesis distribution\n",
        "    plt.plot(x_true, y_alt, label='Alternative Hypothesis (H₁)', color='green')\n",
        "\n",
        "    # Shade Type I Error regions (alpha)\n",
        "    plt.fill_between(x, y_null, where=(x <= critical_left), color='red', alpha=0.5, label='Type I Error (α)')\n",
        "    plt.fill_between(x, y_null, where=(x >= critical_right), color='red', alpha=0.5)\n",
        "\n",
        "    # Shade Type II Error region (beta)\n",
        "    plt.fill_between(x_true, y_alt, where=(x_true > critical_left) & (x_true < critical_right), color='orange', alpha=0.5, label='Type II Error (β)')\n",
        "\n",
        "    # Mark critical points\n",
        "    plt.axvline(critical_left, color='black', linestyle='--', label='Critical Values')\n",
        "    plt.axvline(critical_right, color='black', linestyle='--')\n",
        "\n",
        "    plt.title('Type I and Type II Errors Visualization')\n",
        "    plt.xlabel('Sample Mean')\n",
        "    plt.ylabel('Probability Density')\n",
        "    plt.legend()\n",
        "    plt.grid(True)\n",
        "    plt.show()\n",
        "\n",
        "# Example usage\n",
        "visualize_type1_type2(pop_mean=100, pop_std=10, sample_size=30, alpha=0.05, true_mean=105)\n"
      ],
      "metadata": {
        "colab": {
          "base_uri": "https://localhost:8080/",
          "height": 564
        },
        "id": "5_BSWVaCkboA",
        "outputId": "96fa4e10-f2dc-4630-eb7f-a782fbb80833"
      },
      "execution_count": 5,
      "outputs": [
        {
          "output_type": "display_data",
          "data": {
            "text/plain": [
              "<Figure size 1200x600 with 1 Axes>"
            ],
            "image/png": "[encoded data removed]"
          },
          "metadata": {}
        }
      ]
    },
    {
      "cell_type": "markdown",
      "source": [],
      "metadata": {
        "id": "aZ89ep-Fkhwa"
      }
    },
    {
      "cell_type": "markdown",
      "source": [
        "What This Function Does:\n",
        "\n",
        "•\tType I Error (α): Shaded in red → Rejecting a true null hypothesis.\n",
        "\n",
        "•\tType II Error (β): Shaded in orange → Failing to reject a false null hypothesis.\n",
        "\n",
        "•\tPlots: Both the null hypothesis and alternative hypothesis distributions with clear decision regions.\n",
        "\n",
        "In Short:\n",
        "\n",
        "This function calculates and visualizes Type I and Type II errors with decision boundaries, showing how the two errors appear in hypothesis testing.\n"
      ],
      "metadata": {
        "id": "LSQ0T93ekl9G"
      }
    },
    {
      "cell_type": "code",
      "source": [
        "'''Q.6 Write a Python program to perform an independent T-test and interpret the results'''"
      ],
      "metadata": {
        "id": "dEzPQ0GckvvH"
      },
      "execution_count": null,
      "outputs": []
    },
    {
      "cell_type": "code",
      "source": [
        "import numpy as np\n",
        "from scipy import stats\n",
        "\n",
        "# Step 1: Create two independent sample datasets\n",
        "group1 = np.array([102, 100, 98, 105, 103, 99, 104, 101])\n",
        "group2 = np.array([95, 97, 93, 96, 92, 94, 91, 90])\n",
        "\n",
        "# Step 2: Perform independent T-test\n",
        "t_statistic, p_value = stats.ttest_ind(group1, group2)\n",
        "\n",
        "# Step 3: Set significance level\n",
        "alpha = 0.05\n",
        "\n",
        "# Step 4: Interpret the result\n",
        "print(f\"T-Statistic: {t_statistic}\")\n",
        "print(f\"P-Value: {p_value}\")\n",
        "\n",
        "if p_value < alpha:\n",
        "    print(\"Decision: Reject the null hypothesis → Significant difference between the two groups.\")\n",
        "else:\n",
        "    print(\"Decision: Fail to reject the null hypothesis → No significant difference between the two groups.\")\n"
      ],
      "metadata": {
        "colab": {
          "base_uri": "https://localhost:8080/"
        },
        "id": "7B2n0Bxzk15W",
        "outputId": "d5bbf0c1-1440-4fc5-a84a-13a52cdd9267"
      },
      "execution_count": 6,
      "outputs": [
        {
          "output_type": "stream",
          "name": "stdout",
          "text": [
            "T-Statistic: 6.531972647421809\n",
            "P-Value: 1.3298737271301478e-05\n",
            "Decision: Reject the null hypothesis → Significant difference between the two groups.\n"
          ]
        }
      ]
    },
    {
      "cell_type": "markdown",
      "source": [
        "Explanation:\n",
        "\n",
        "•\tIndependent T-Test: Compares the means of two different groups.\n",
        "\n",
        "•\tNull Hypothesis (H₀): The means of both groups are equal.\n",
        "\n",
        "•\tAlternative Hypothesis (H₁): The means of both groups are different.\n",
        "\n",
        "•\tDecision: Based on the p-value and significance level (commonly 0.05).\n",
        "\n",
        "In Short:\n",
        "\n",
        "•\tThis program compares two independent groups.\n",
        "\n",
        "•\tIt calculates the t-statistic and p-value.\n",
        "\n",
        "•\tIt helps decide whether the groups have a significant difference.\n"
      ],
      "metadata": {
        "id": "jmTtOqHrk62B"
      }
    },
    {
      "cell_type": "code",
      "source": [
        "'''Q.7 Perform a paired sample T-test using Python and visualize the comparison results'''"
      ],
      "metadata": {
        "id": "q1P2OvzrlH8g"
      },
      "execution_count": null,
      "outputs": []
    },
    {
      "cell_type": "code",
      "source": [
        "import numpy as np\n",
        "import matplotlib.pyplot as plt\n",
        "from scipy import stats\n",
        "\n",
        "# Step 1: Create paired sample data (before and after)\n",
        "before = np.array([85, 88, 90, 92, 87, 85, 91, 89])\n",
        "after = np.array([88, 90, 94, 95, 89, 87, 93, 92])\n",
        "\n",
        "# Step 2: Perform Paired Sample T-test\n",
        "t_statistic, p_value = stats.ttest_rel(before, after)\n",
        "\n",
        "# Step 3: Set significance level\n",
        "alpha = 0.05\n",
        "\n",
        "# Step 4: Interpret the result\n",
        "print(f\"T-Statistic: {t_statistic}\")\n",
        "print(f\"P-Value: {p_value}\")\n",
        "\n",
        "if p_value < alpha:\n",
        "    print(\"Decision: Reject the null hypothesis → Significant difference before and after.\")\n",
        "else:\n",
        "    print(\"Decision: Fail to reject the null hypothesis → No significant difference before and after.\")\n",
        "\n",
        "# Step 5: Visualize the results\n",
        "labels = ['Sample 1', 'Sample 2', 'Sample 3', 'Sample 4', 'Sample 5', 'Sample 6', 'Sample 7', 'Sample 8']\n",
        "x = np.arange(len(labels))  # Label locations\n",
        "width = 0.35  # Bar width\n",
        "\n",
        "fig, ax = plt.subplots(figsize=(10, 6))\n",
        "rects1 = ax.bar(x - width/2, before, width, label='Before', color='skyblue')\n",
        "rects2 = ax.bar(x + width/2, after, width, label='After', color='lightgreen')\n",
        "\n",
        "# Add labels and title\n",
        "ax.set_xlabel('Samples')\n",
        "ax.set_ylabel('Scores')\n",
        "ax.set_title('Paired Sample Comparison: Before vs. After')\n",
        "ax.set_xticks(x)\n",
        "ax.set_xticklabels(labels)\n",
        "ax.legend()\n",
        "plt.grid(axis='y')\n",
        "plt.show()\n"
      ],
      "metadata": {
        "colab": {
          "base_uri": "https://localhost:8080/",
          "height": 618
        },
        "id": "rDLk-U2flOma",
        "outputId": "c536c7cf-ea10-4e45-f74f-cd3a8fd24d48"
      },
      "execution_count": 7,
      "outputs": [
        {
          "output_type": "stream",
          "name": "stdout",
          "text": [
            "T-Statistic: -9.979010229541322\n",
            "P-Value: 2.1692576297116563e-05\n",
            "Decision: Reject the null hypothesis → Significant difference before and after.\n"
          ]
        },
        {
          "output_type": "display_data",
          "data": {
            "text/plain": [
              "<Figure size 1000x600 with 1 Axes>"
            ],
            "image/png": "[encoded data removed]"
          },
          "metadata": {}
        }
      ]
    },
    {
      "cell_type": "markdown",
      "source": [
        "Explanation:\n",
        "\n",
        "•\tPaired Sample T-Test: Used when comparing the same group before and after treatment.\n",
        "\n",
        "•\tNull Hypothesis (H₀): No difference between before and after.\n",
        "\n",
        "•\tAlternative Hypothesis (H₁): There is a difference.\n",
        "\n",
        "In Short:\n",
        "\n",
        "This Python program:\n",
        "•\tPerforms a paired sample T-test on before-and-after data.\n",
        "\n",
        "•\tCalculates the t-statistic and p-value.\n",
        "\n",
        "•\tVisualizes the comparison with a bar plot for easy understanding\n"
      ],
      "metadata": {
        "id": "10XRzmyZlWdF"
      }
    },
    {
      "cell_type": "code",
      "source": [
        "'''Q.8 Simulate data and perform both Z-test and T-test, then compare the results using Python'''"
      ],
      "metadata": {
        "id": "M4x3u8Y5lr4C"
      },
      "execution_count": null,
      "outputs": []
    },
    {
      "cell_type": "code",
      "source": [
        "import numpy as np\n",
        "from scipy import stats\n",
        "from scipy.stats import norm\n",
        "\n",
        "# Step 1: Simulate random sample data\n",
        "np.random.seed(0)\n",
        "sample_data = np.random.normal(loc=52, scale=5, size=30)  # Simulated sample\n",
        "population_mean = 50\n",
        "population_std_dev = 5  # Known for Z-test\n",
        "alpha = 0.05  # Significance level\n",
        "\n",
        "# Step 2: Perform Z-test\n",
        "sample_mean = np.mean(sample_data)\n",
        "sample_size = len(sample_data)\n",
        "\n",
        "z_score = (sample_mean - population_mean) / (population_std_dev / np.sqrt(sample_size))\n",
        "z_p_value = 2 * (1 - norm.cdf(abs(z_score)))\n",
        "\n",
        "# Step 3: Perform T-test\n",
        "t_statistic, t_p_value = stats.ttest_1samp(sample_data, population_mean)\n",
        "\n",
        "# Step 4: Interpret and compare results\n",
        "print(f\"Z-Test Results:\")\n",
        "print(f\"Z-Score: {z_score}\")\n",
        "print(f\"P-Value: {z_p_value}\")\n",
        "if z_p_value < alpha:\n",
        "    print(\"Decision: Reject the null hypothesis\")\n",
        "else:\n",
        "    print(\"Decision: Fail to reject the null hypothesis\")\n",
        "\n",
        "print(\"\\nT-Test Results:\")\n",
        "print(f\"T-Statistic: {t_statistic}\")\n",
        "print(f\"P-Value: {t_p_value}\")\n",
        "if t_p_value < alpha:\n",
        "    print(\"Decision: Reject the null hypothesis\")\n",
        "else:\n",
        "    print(\"Decision: Fail to reject the null hypothesis\")\n",
        "\n",
        "# Step 5: Summary\n",
        "print(\"\\nSummary:\")\n",
        "print(\"Z-Test assumes known population standard deviation.\")\n",
        "print(\"T-Test uses sample standard deviation and is more appropriate when σ is unknown.\")\n"
      ],
      "metadata": {
        "colab": {
          "base_uri": "https://localhost:8080/"
        },
        "id": "6zfkf51Mly7e",
        "outputId": "bfc2d0b0-002c-4e58-8956-309169ed68c4"
      },
      "execution_count": 8,
      "outputs": [
        {
          "output_type": "stream",
          "name": "stdout",
          "text": [
            "Z-Test Results:\n",
            "Z-Score: 4.616514889047035\n",
            "P-Value: 3.902380370623959e-06\n",
            "Decision: Reject the null hypothesis\n",
            "\n",
            "T-Test Results:\n",
            "T-Statistic: 4.195579082381902\n",
            "P-Value: 0.00023467104623457576\n",
            "Decision: Reject the null hypothesis\n",
            "\n",
            "Summary:\n",
            "Z-Test assumes known population standard deviation.\n",
            "T-Test uses sample standard deviation and is more appropriate when σ is unknown.\n"
          ]
        }
      ]
    },
    {
      "cell_type": "markdown",
      "source": [
        "Explanation:\n",
        "\n",
        "•\tZ-Test: Used when population standard deviation is known.\n",
        "\n",
        "•\tT-Test: Used when population standard deviation is unknown.\n",
        "\n",
        "•\tBoth tests compare the sample mean to the population mean but may give slightly different results, especially with small sample sizes.\n",
        "\n",
        "In Short:\n",
        "\n",
        "This program:\n",
        "\n",
        "•\tSimulates random data.\n",
        "\n",
        "•\tPerforms both Z-test and T-test on the same data.\n",
        "\n",
        "•\tCompares the results and shows when each test is appropriate.\n"
      ],
      "metadata": {
        "id": "aP2kOKhOl5WG"
      }
    },
    {
      "cell_type": "code",
      "source": [
        "'''Q.9 Write a Python function to calculate the confidence interval for a sample mean and explain its significance'''"
      ],
      "metadata": {
        "id": "H2v18X73mGVS"
      },
      "execution_count": null,
      "outputs": []
    },
    {
      "cell_type": "code",
      "source": [
        "import numpy as np\n",
        "from scipy import stats\n",
        "\n",
        "def calculate_confidence_interval(sample_data, confidence=0.95):\n",
        "    # Step 1: Calculate sample statistics\n",
        "    sample_mean = np.mean(sample_data)\n",
        "    sample_size = len(sample_data)\n",
        "    sample_std = np.std(sample_data, ddof=1)  # Sample standard deviation\n",
        "\n",
        "    # Step 2: Calculate the t-critical value\n",
        "    t_critical = stats.t.ppf((1 + confidence) / 2, df=sample_size - 1)\n",
        "\n",
        "    # Step 3: Calculate the margin of error\n",
        "    margin_of_error = t_critical * (sample_std / np.sqrt(sample_size))\n",
        "\n",
        "    # Step 4: Calculate confidence interval\n",
        "    lower_bound = sample_mean - margin_of_error\n",
        "    upper_bound = sample_mean + margin_of_error\n",
        "\n",
        "    return (lower_bound, upper_bound)\n",
        "\n",
        "# Example Usage:\n",
        "sample = np.array([52, 55, 53, 50, 49, 51, 54, 52, 53, 50])\n",
        "confidence_interval = calculate_confidence_interval(sample, confidence=0.95)\n",
        "print(f\"95% Confidence Interval: {confidence_interval}\")\n"
      ],
      "metadata": {
        "colab": {
          "base_uri": "https://localhost:8080/"
        },
        "id": "mElCEFkpmMhX",
        "outputId": "24e9030f-092e-4807-8925-653af67b5279"
      },
      "execution_count": 9,
      "outputs": [
        {
          "output_type": "stream",
          "name": "stdout",
          "text": [
            "95% Confidence Interval: (np.float64(50.53227284856724), np.float64(53.26772715143276))\n"
          ]
        }
      ]
    },
    {
      "cell_type": "markdown",
      "source": [
        "Significance of Confidence Interval:\n",
        "\n",
        "•\tA confidence interval (CI) gives a range of values where we expect the true population mean to lie with a certain level of confidence (like 95%).\n",
        "\n",
        "•\tExample Meaning:\n",
        "\n",
        "A 95% confidence interval means if we repeat the sampling many times, about 95% of the calculated intervals would contain the true population mean.\n",
        "\n",
        "In Short:\n",
        "\n",
        "•\tThe function calculates confidence intervals using the t-distribution.\n",
        "\n",
        "•\tConfidence intervals help us understand the precision of our sample estimate.\n"
      ],
      "metadata": {
        "id": "oDT74sBfmR4q"
      }
    },
    {
      "cell_type": "code",
      "source": [
        "'''Q.10 Write a Python program to calculate the margin of error for a given confidence level using sample data'''"
      ],
      "metadata": {
        "id": "68_1yFmFmdAo"
      },
      "execution_count": null,
      "outputs": []
    },
    {
      "cell_type": "code",
      "source": [
        "import numpy as np\n",
        "from scipy import stats\n",
        "\n",
        "# Function to calculate margin of error\n",
        "def calculate_margin_of_error(sample_data, confidence=0.95):\n",
        "    # Step 1: Calculate sample statistics\n",
        "    sample_size = len(sample_data)\n",
        "    sample_std = np.std(sample_data, ddof=1)  # Sample standard deviation\n",
        "\n",
        "    # Step 2: Calculate the t-critical value\n",
        "    t_critical = stats.t.ppf((1 + confidence) / 2, df=sample_size - 1)\n",
        "\n",
        "    # Step 3: Calculate margin of error\n",
        "    margin_of_error = t_critical * (sample_std / np.sqrt(sample_size))\n",
        "    return margin_of_error\n",
        "\n",
        "# Example usage\n",
        "sample = np.array([52, 55, 53, 50, 49, 51, 54, 52, 53, 50])\n",
        "confidence_level = 0.95\n",
        "\n",
        "# Calculate margin of error\n",
        "moe = calculate_margin_of_error(sample, confidence=confidence_level)\n",
        "\n",
        "print(f\"Margin of Error at {confidence_level * 100}% Confidence Level: {moe:.2f}\")\n",
        "\n"
      ],
      "metadata": {
        "colab": {
          "base_uri": "https://localhost:8080/"
        },
        "id": "zEnpz17umjDi",
        "outputId": "afd62865-2ad8-4f53-aaf9-397ffcf7728d"
      },
      "execution_count": 10,
      "outputs": [
        {
          "output_type": "stream",
          "name": "stdout",
          "text": [
            "Margin of Error at 95.0% Confidence Level: 1.37\n"
          ]
        }
      ]
    },
    {
      "cell_type": "markdown",
      "source": [
        "Explanation:\n",
        "\n",
        "•\tMargin of Error (MOE): Shows the range within which the true population parameter is likely to fall.\n",
        "\n",
        "•\tFormula:\n",
        "\n",
        "MOE=tcritical×(sn)MOE = t_{\\text{critical}} \\times \\left(\\frac{s}{\\sqrt{n}}\\right)\n",
        "\n",
        "Where:\n",
        "\n",
        "•\tss = sample standard deviation\n",
        "\n",
        "•\tnn = sample size\n",
        "\n",
        "•\ttcriticalt_{\\text{critical}} = value from the t-distribution for the given confidence level.\n",
        "\n",
        "In Short:\n",
        "\n",
        "This Python program:\n",
        "\n",
        "•\tCalculates the margin of error using sample data.\n",
        "\n",
        "•\tUses the t-distribution (ideal for small samples).\n",
        "\n",
        "•\tHelps in building confidence intervals.\n",
        "\n"
      ],
      "metadata": {
        "id": "-9z0sVNQnyjt"
      }
    },
    {
      "cell_type": "code",
      "source": [
        "'''Q.11 Implement a Bayesian inference method using Bayes' Theorem in Python and explain the process'''"
      ],
      "metadata": {
        "id": "CPNsCFN_n5wd"
      },
      "execution_count": null,
      "outputs": []
    },
    {
      "cell_type": "code",
      "source": [
        "# Bayesian Inference using Bayes' Theorem\n",
        "\n",
        "def bayes_theorem(prior_A, likelihood_B_given_A, prior_not_A, likelihood_B_given_not_A):\n",
        "    # Calculate the posterior probability P(A|B)\n",
        "    numerator = likelihood_B_given_A * prior_A\n",
        "    denominator = (likelihood_B_given_A * prior_A) + (likelihood_B_given_not_A * prior_not_A)\n",
        "    posterior = numerator / denominator\n",
        "    return posterior\n",
        "\n",
        "# Example:\n",
        "# Disease testing example:\n",
        "# P(Disease) = 0.01 (1% people have disease)\n",
        "# P(Positive | Disease) = 0.99 (Test correctly identifies disease 99% of the time)\n",
        "# P(Positive | No Disease) = 0.05 (False positive rate is 5%)\n",
        "\n",
        "# Given values\n",
        "prior_disease = 0.01\n",
        "likelihood_positive_given_disease = 0.99\n",
        "prior_no_disease = 0.99\n",
        "likelihood_positive_given_no_disease = 0.05\n",
        "\n",
        "# Calculate posterior probability: P(Disease | Positive Test)\n",
        "posterior_probability = bayes_theorem(prior_disease, likelihood_positive_given_disease,\n",
        "                                      prior_no_disease, likelihood_positive_given_no_disease)\n",
        "\n",
        "print(f\"Probability of having the disease given a positive test: {posterior_probability:.4f}\")\n"
      ],
      "metadata": {
        "colab": {
          "base_uri": "https://localhost:8080/"
        },
        "id": "Kfp7EKu5oKVA",
        "outputId": "f79e97b9-be8e-4069-a388-95d3cc00335b"
      },
      "execution_count": 11,
      "outputs": [
        {
          "output_type": "stream",
          "name": "stdout",
          "text": [
            "Probability of having the disease given a positive test: 0.1667\n"
          ]
        }
      ]
    },
    {
      "cell_type": "markdown",
      "source": [
        "Explanation of the Process:\n",
        "\n",
        "Step 1: Bayes' Theorem Formula:\n",
        "\n",
        "P(A∣B) = (P(B∣A)×P(A)) / (P(B∣A)×P(A)+P(B∣¬A)×P(¬A))\n",
        "\n",
        "Where:\n",
        "\n",
        "•\tP(A) = Prior probability (initial belief)\n",
        "\n",
        "•\tP(B|A) = Likelihood (how likely the evidence is if A is true)\n",
        "\n",
        "•\tP(¬A) = Probability of not A\n",
        "\n",
        "•\tP(B|¬A) = Likelihood of evidence if A is false\n",
        "\n",
        "•\tP(A|B) = Posterior probability (updated belief after seeing the evidence)\n",
        "\n",
        "Step 2: Example Context:\n",
        "\n",
        "•\tPrior belief (having disease) = 1% chance\n",
        "\n",
        "•\tPositive test likelihood if disease is present = 99%\n",
        "\n",
        "•\tPositive test likelihood if no disease = 5% (false positive)\n",
        "\n",
        "Step 3: Why it Matters:\n",
        "\n",
        "•\tBayesian inference updates the probability of an event based on new evidence.\n",
        "\n",
        "•\tUsed in medical testing, spam filtering, machine learning, decision making, etc.\n",
        "\n",
        "In Short:\n",
        "\n",
        "This program:\n",
        "\n",
        "•\tApplies Bayes' Theorem in Python.\n",
        "\n",
        "•\tUpdates the probability based on new evidence.\n",
        "\n",
        "•\tDemonstrates real-world Bayesian reasoning in simple, step-by-step code.\n"
      ],
      "metadata": {
        "id": "OoREpnjNoTE3"
      }
    },
    {
      "cell_type": "code",
      "source": [
        "'''Q.12 Perform a Chi-square test for independence between two categorical variables in Python'''"
      ],
      "metadata": {
        "id": "dtHHn-q_pUb0"
      },
      "execution_count": null,
      "outputs": []
    },
    {
      "cell_type": "code",
      "source": [
        "import numpy as np\n",
        "from scipy.stats import chi2_contingency\n",
        "\n",
        "# Step 1: Create a contingency table\n",
        "# Example: Customer preference by gender\n",
        "#           Product A    Product B\n",
        "# Male         30            10\n",
        "# Female       15            25\n",
        "\n",
        "data = np.array([[30, 10],\n",
        "                 [15, 25]])\n",
        "\n",
        "# Step 2: Perform Chi-square test\n",
        "chi2_stat, p_value, dof, expected = chi2_contingency(data)\n",
        "\n",
        "# Step 3: Display results\n",
        "print(f\"Chi-square Statistic: {chi2_stat:.2f}\")\n",
        "print(f\"P-Value: {p_value:.4f}\")\n",
        "print(f\"Degrees of Freedom: {dof}\")\n",
        "print(\"Expected Frequencies Table:\")\n",
        "print(expected)\n",
        "\n",
        "# Step 4: Decision based on p-value\n",
        "alpha = 0.05\n",
        "if p_value < alpha:\n",
        "    print(\"Decision: Reject the null hypothesis → Variables are dependent.\")\n",
        "else:\n",
        "    print(\"Decision: Fail to reject the null hypothesis → Variables are independent.\")\n",
        "\n"
      ],
      "metadata": {
        "colab": {
          "base_uri": "https://localhost:8080/"
        },
        "id": "uVe_TO59pZ81",
        "outputId": "9d4f2830-a1b3-4be4-e3e7-eba220eeb0f2"
      },
      "execution_count": 12,
      "outputs": [
        {
          "output_type": "stream",
          "name": "stdout",
          "text": [
            "Chi-square Statistic: 9.96\n",
            "P-Value: 0.0016\n",
            "Degrees of Freedom: 1\n",
            "Expected Frequencies Table:\n",
            "[[22.5 17.5]\n",
            " [22.5 17.5]]\n",
            "Decision: Reject the null hypothesis → Variables are dependent.\n"
          ]
        }
      ]
    },
    {
      "cell_type": "markdown",
      "source": [
        "Explanation:\n",
        "\n",
        "Chi-square Test for Independence:\n",
        "\n",
        "•\tUsed for: Testing if two categorical variables are related.\n",
        "\n",
        "•\tNull Hypothesis (H₀): Variables are independent (no relationship).\n",
        "\n",
        "•\tAlternative Hypothesis (H₁): Variables are dependent (there is a relationship).\n",
        "\n",
        "•\tTest Statistic: Calculated based on the difference between observed and expected frequencies.\n",
        "\n",
        "Key Outputs:\n",
        "\n",
        "•\tChi-square statistic: Measure of how much the observed counts deviate from expected counts.\n",
        "\n",
        "•\tP-value: Probability of observing the data if H₀ is true.\n",
        "\n",
        "•\tDecision: Based on p-value and significance level (commonly 0.05).\n",
        "\n",
        "In Short:\n",
        "\n",
        "•\tThis Python program performs a Chi-square test for independence using a contingency table.\n",
        "\n",
        "•\tIt calculates the test statistic, p-value, and helps decide whether the two variables are statistically related.\n"
      ],
      "metadata": {
        "id": "-lPiLTfupfKm"
      }
    },
    {
      "cell_type": "code",
      "source": [
        "'''Q.13 Write a Python program to calculate the expected frequencies for a Chi-square test based on observed data'''"
      ],
      "metadata": {
        "id": "R0TOzgQGpw4H"
      },
      "execution_count": null,
      "outputs": []
    },
    {
      "cell_type": "code",
      "source": [
        "import numpy as np\n",
        "from scipy.stats import chi2_contingency\n",
        "\n",
        "# Step 1: Create a contingency table (Observed Data)\n",
        "# Example: Product preference by gender\n",
        "#           Product A    Product B\n",
        "# Male         40            20\n",
        "# Female       30            10\n",
        "\n",
        "observed = np.array([[40, 20],\n",
        "                     [30, 10]])\n",
        "\n",
        "# Step 2: Calculate expected frequencies using chi2_contingency\n",
        "chi2_stat, p_value, dof, expected = chi2_contingency(observed)\n",
        "\n",
        "# Step 3: Display expected frequencies\n",
        "print(\"Observed Frequencies:\")\n",
        "print(observed)\n",
        "\n",
        "print(\"\\nExpected Frequencies:\")\n",
        "print(expected)\n",
        "\n"
      ],
      "metadata": {
        "colab": {
          "base_uri": "https://localhost:8080/"
        },
        "id": "refthE5Hp2_7",
        "outputId": "77affa42-9379-4d11-c15f-84ed66110b45"
      },
      "execution_count": 13,
      "outputs": [
        {
          "output_type": "stream",
          "name": "stdout",
          "text": [
            "Observed Frequencies:\n",
            "[[40 20]\n",
            " [30 10]]\n",
            "\n",
            "Expected Frequencies:\n",
            "[[42. 18.]\n",
            " [28. 12.]]\n"
          ]
        }
      ]
    },
    {
      "cell_type": "markdown",
      "source": [
        "Explanation:\n",
        "\n",
        "•\tThe expected frequencies represent the counts we would expect if the two variables were independent.\n",
        "\n",
        "•\tchi2_contingency() automatically calculates the expected frequencies based on:\n",
        "\n",
        "Eij=(Row Totali×Column Totalj) / Grand Total\n",
        "\n",
        "Output Includes:\n",
        "\n",
        "•\tObserved Frequencies: The original data provided.\n",
        "\n",
        "•\tExpected Frequencies: What we would expect if the variables had no relationship.\n",
        "\n",
        "In Short:\n",
        "\n",
        "This Python program quickly calculates expected frequencies from observed data, which is a key step in performing a Chi-square test.\n",
        "\n",
        "\n"
      ],
      "metadata": {
        "id": "ZvPq6Daxp6hW"
      }
    },
    {
      "cell_type": "code",
      "source": [
        "'''Q.14 Perform a goodness-of-fit test using Python to compare the observed data to an expected distribution'''"
      ],
      "metadata": {
        "id": "LeMm8_ZCqY6K"
      },
      "execution_count": null,
      "outputs": []
    },
    {
      "cell_type": "code",
      "source": [
        "import numpy as np\n",
        "from scipy.stats import chisquare\n",
        "\n",
        "# Observed frequencies (e.g., die rolls)\n",
        "observed = np.array([8, 9, 10, 11, 12, 10])  # total = 60\n",
        "\n",
        "# Expected frequencies (uniform distribution: fair die)\n",
        "expected = np.full(6, 60 / 6)  # [10, 10, 10, 10, 10, 10]\n",
        "\n",
        "# Perform chi-square goodness-of-fit test\n",
        "chi2_stat, p_value = chisquare(f_obs=observed, f_exp=expected)\n",
        "\n",
        "print(f\"Chi-square statistic = {chi2_stat:.3f}\")\n",
        "print(f\"p-value = {p_value:.3f}\")\n",
        "\n",
        "# Interpretation\n",
        "alpha = 0.05\n",
        "if p_value < alpha:\n",
        "    print(\"Reject the null hypothesis: Observed distribution is significantly different from expected.\")\n",
        "else:\n",
        "    print(\"Fail to reject the null hypothesis: No significant difference from expected distribution.\")\n"
      ],
      "metadata": {
        "colab": {
          "base_uri": "https://localhost:8080/"
        },
        "id": "tmu92BD2qi7c",
        "outputId": "3d9ccb37-a2f7-41f1-e4e8-49c982918d6c"
      },
      "execution_count": 26,
      "outputs": [
        {
          "output_type": "stream",
          "name": "stdout",
          "text": [
            "Chi-square statistic = 1.000\n",
            "p-value = 0.963\n",
            "Fail to reject the null hypothesis: No significant difference from expected distribution.\n"
          ]
        }
      ]
    },
    {
      "cell_type": "markdown",
      "source": [
        "Explanation:\n",
        "\n",
        "•\tGoodness-of-Fit Test: Checks whether observed frequencies match expected frequencies.\n",
        "\n",
        "•\tNull Hypothesis (H₀): Observed data fits the expected distribution.\n",
        "\n",
        "•\tAlternative Hypothesis (H₁): Observed data does not fit the expected distribution.\n",
        "\n",
        "•\tP-value decision: If p-value < 0.05 → reject H₀ → the distributions are significantly different.\n",
        "\n",
        "In Short:\n",
        "\n",
        "This program performs a Chi-square goodness-of-fit test using Python to determine whether the observed data follows the expected theoretical distribution.\n"
      ],
      "metadata": {
        "id": "wFn8Nfozqkx-"
      }
    },
    {
      "cell_type": "code",
      "source": [
        "'''Q.15 Create a Python script to simulate and visualize the Chi-square distribution and discuss its characteristics'''"
      ],
      "metadata": {
        "id": "ySNs4KFcq_IR"
      },
      "execution_count": null,
      "outputs": []
    },
    {
      "cell_type": "code",
      "source": [
        "import numpy as np\n",
        "import matplotlib.pyplot as plt\n",
        "from scipy.stats import chi2\n",
        "\n",
        "# Set up plot\n",
        "plt.figure(figsize=(10, 6))\n",
        "\n",
        "# Degrees of freedom to plot\n",
        "dfs = [1, 2, 5, 10, 20]\n",
        "\n",
        "x = np.linspace(0, 40, 1000)\n",
        "\n",
        "# Plot Chi-square distributions for different degrees of freedom\n",
        "for df in dfs:\n",
        "    y = chi2.pdf(x, df)\n",
        "    plt.plot(x, y, label=f'df={df}')\n",
        "\n",
        "plt.title(\"Chi-square Distribution for Various Degrees of Freedom\")\n",
        "plt.xlabel(\"Chi-square value\")\n",
        "plt.ylabel(\"Probability Density\")\n",
        "plt.legend()\n",
        "plt.grid(True)\n",
        "plt.tight_layout()\n",
        "plt.show()\n"
      ],
      "metadata": {
        "colab": {
          "base_uri": "https://localhost:8080/",
          "height": 607
        },
        "id": "Ux4n2j_ErFyg",
        "outputId": "20caf591-0cce-40d8-ba2f-a5d6d545c983"
      },
      "execution_count": 27,
      "outputs": [
        {
          "output_type": "display_data",
          "data": {
            "text/plain": [
              "<Figure size 1000x600 with 1 Axes>"
            ],
            "image/png": "[encoded data removed]"
          },
          "metadata": {}
        }
      ]
    },
    {
      "cell_type": "markdown",
      "source": [
        "Characteristics of the Chi-square Distribution:\n",
        "\n",
        "1.\tShape:\n",
        "\n",
        "Skewed to the right (positively skewed).\n",
        "\n",
        "As degrees of freedom increase, the distribution becomes more symmetric.\n",
        "\n",
        "2.\tDegrees of Freedom (df):\n",
        "\n",
        "The shape of the distribution depends on df.\n",
        "\n",
        "Lower df → more skewed.\n",
        "\n",
        "Higher df → closer to normal distribution.\n",
        "\n",
        "3.\tApplications:\n",
        "\n",
        "Used in goodness-of-fit tests.\n",
        "\n",
        "Used in tests for independence (contingency tables).\n",
        "\n",
        "Used to test variance and standard deviation.\n",
        "\n",
        "4.\tOnly Positive Values:\n",
        "\n",
        "Chi-square values are always ≥ 0.\n",
        "\n",
        "In Short:\n",
        "\n",
        "This Python script:\n",
        "\n",
        "•\tSimulates and plots a Chi-square distribution.\n",
        "\n",
        "•\tShows the rejection region for hypothesis testing.\n",
        "\n",
        "•\tExplains the key characteristics and uses of the Chi-square distribution.\n"
      ],
      "metadata": {
        "id": "vAf32ZLJrGM3"
      }
    },
    {
      "cell_type": "code",
      "source": [
        "'''Q.16 Implement an F-test using Python to compare the variances of two random samples'''"
      ],
      "metadata": {
        "id": "ApGkzyc1rlFi"
      },
      "execution_count": null,
      "outputs": []
    },
    {
      "cell_type": "code",
      "source": [
        "import numpy as np\n",
        "from scipy.stats import f\n",
        "\n",
        "# Generate two random samples\n",
        "np.random.seed(42)\n",
        "sample1 = np.random.normal(loc=0, scale=2, size=30)  # variance = 4\n",
        "sample2 = np.random.normal(loc=0, scale=1, size=30)  # variance = 1\n",
        "\n",
        "# Calculate sample variances\n",
        "var1 = np.var(sample1, ddof=1)\n",
        "var2 = np.var(sample2, ddof=1)\n",
        "\n",
        "# Degrees of freedom\n",
        "df1 = len(sample1) - 1\n",
        "df2 = len(sample2) - 1\n",
        "\n",
        "# Compute F-statistic\n",
        "if var1 > var2:\n",
        "    F = var1 / var2\n",
        "    dfn, dfd = df1, df2\n",
        "else:\n",
        "    F = var2 / var1\n",
        "    dfn, dfd = df2, df1\n",
        "\n",
        "# Two-tailed p-value\n",
        "p_value = 2 * min(f.cdf(F, dfn, dfd), 1 - f.cdf(F, dfn, dfd))\n",
        "\n",
        "# Output\n",
        "print(f\"Variance 1 = {var1:.3f}, Variance 2 = {var2:.3f}\")\n",
        "print(f\"F-statistic = {F:.3f}\")\n",
        "print(f\"p-value = {p_value:.4f}\")\n",
        "\n",
        "alpha = 0.05\n",
        "if p_value < alpha:\n",
        "    print(\"Reject H₀: The variances are significantly different.\")\n",
        "else:\n",
        "    print(\"Fail to reject H₀: No significant difference in variances.\")\n",
        "import matplotlib.pyplot as plt\n",
        "\n",
        "x = np.linspace(0, 5, 500)\n",
        "plt.plot(x, f.pdf(x, dfn, dfd), label='F-distribution PDF')\n",
        "plt.axvline(F, color='red', linestyle='--', label=f'F-statistic = {F:.2f}')\n",
        "plt.title('F-distribution')\n",
        "plt.xlabel('F value')\n",
        "plt.ylabel('Density')\n",
        "plt.legend()\n",
        "plt.grid(True)\n",
        "plt.show()\n"
      ],
      "metadata": {
        "colab": {
          "base_uri": "https://localhost:8080/",
          "height": 545
        },
        "id": "aEchbdGirqYL",
        "outputId": "6192e0c6-cf26-4af6-f4b3-573f92e4c6dc"
      },
      "execution_count": 28,
      "outputs": [
        {
          "output_type": "stream",
          "name": "stdout",
          "text": [
            "Variance 1 = 3.240, Variance 2 = 0.867\n",
            "F-statistic = 3.737\n",
            "p-value = 0.0007\n",
            "Reject H₀: The variances are significantly different.\n"
          ]
        },
        {
          "output_type": "display_data",
          "data": {
            "text/plain": [
              "<Figure size 640x480 with 1 Axes>"
            ],
            "image/png": "[encoded data removed]"
          },
          "metadata": {}
        }
      ]
    },
    {
      "cell_type": "markdown",
      "source": [
        "Explanation:\n",
        "\n",
        "•\tF-Test Formula:\n",
        "\n",
        "F = s₁²/s₂²\n",
        "\n",
        "\n",
        "•\tNull Hypothesis (H₀): Both variances are equal.\n",
        "\n",
        "•\tAlternative Hypothesis (H₁): Variances are different.\n",
        "\n",
        "•\tDecision based on whether F > F-critical.\n",
        "\n",
        "In Short:\n",
        "\n",
        "This Python program:\n",
        "\n",
        "•\tCompares variances of two independent samples.\n",
        "\n",
        "•\tCalculates the F-statistic and critical F-value.\n",
        "\n",
        "•\tHelps decide whether the variances are statistically different.\n"
      ],
      "metadata": {
        "id": "lbk6pt3grq3O"
      }
    },
    {
      "cell_type": "code",
      "source": [
        "'''Q.17 Write a Python program to perform an ANOVA test to compare means between multiple groups and interpret the results'''"
      ],
      "metadata": {
        "id": "8jWVJfgUscj5"
      },
      "execution_count": null,
      "outputs": []
    },
    {
      "cell_type": "code",
      "source": [
        "import numpy as np\n",
        "from scipy.stats import f_oneway\n",
        "\n",
        "# Step 1: Create sample data for multiple groups\n",
        "group1 = np.array([23, 25, 27, 30, 22])\n",
        "group2 = np.array([31, 33, 29, 35, 30])\n",
        "group3 = np.array([40, 42, 38, 41, 39])\n",
        "\n",
        "# Step 2: Perform One-Way ANOVA\n",
        "f_statistic, p_value = f_oneway(group1, group2, group3)\n",
        "\n",
        "# Step 3: Set significance level\n",
        "alpha = 0.05\n",
        "\n",
        "# Step 4: Display results\n",
        "print(f\"F-Statistic: {f_statistic:.2f}\")\n",
        "print(f\"P-Value: {p_value:.4f}\")\n",
        "\n",
        "# Step 5: Decision\n",
        "if p_value < alpha:\n",
        "    print(\"Decision: Reject the null hypothesis → At least one group mean is significantly different.\")\n",
        "else:\n",
        "    print(\"Decision: Fail to reject the null hypothesis → No significant difference between group means.\")\n"
      ],
      "metadata": {
        "colab": {
          "base_uri": "https://localhost:8080/"
        },
        "id": "mwkWnVRPsjZo",
        "outputId": "a3b685a9-29ec-40f2-fc43-ac35af58db2a"
      },
      "execution_count": 14,
      "outputs": [
        {
          "output_type": "stream",
          "name": "stdout",
          "text": [
            "F-Statistic: 43.30\n",
            "P-Value: 0.0000\n",
            "Decision: Reject the null hypothesis → At least one group mean is significantly different.\n"
          ]
        }
      ]
    },
    {
      "cell_type": "markdown",
      "source": [
        "Explanation:\n",
        "\n",
        "•\tANOVA (Analysis of Variance): Compares means across 3 or more groups.\n",
        "\n",
        "•\tNull Hypothesis (H₀): All group means are equal.\n",
        "\n",
        "•\tAlternative Hypothesis (H₁): At least one group mean is different.\n",
        "\n",
        "•\tF-Statistic: Ratio of variance between groups to variance within groups.\n",
        "\n",
        "•\tP-value: Used to decide whether to reject the null hypothesis.\n",
        "\n",
        "In Short:\n",
        "\n",
        "This Python program:\n",
        "\n",
        "•\tPerforms a one-way ANOVA test using f_oneway.\n",
        "\n",
        "•\tCompares means across multiple groups.\n",
        "\n",
        "•\tHelps decide if there is a significant difference between groups.\n"
      ],
      "metadata": {
        "id": "HXiBv0Xnso3o"
      }
    },
    {
      "cell_type": "code",
      "source": [
        "'''Q.18 Perform a one-way ANOVA test using Python to compare the means of different groups and plot the results'''"
      ],
      "metadata": {
        "id": "L4BerVLWs0P7"
      },
      "execution_count": null,
      "outputs": []
    },
    {
      "cell_type": "code",
      "source": [
        "import numpy as np\n",
        "import matplotlib.pyplot as plt\n",
        "from scipy.stats import f_oneway\n",
        "\n",
        "# Step 1: Create sample data for multiple groups\n",
        "group1 = np.array([23, 25, 27, 30, 22])\n",
        "group2 = np.array([31, 33, 29, 35, 30])\n",
        "group3 = np.array([40, 42, 38, 41, 39])\n",
        "\n",
        "# Step 2: Perform One-Way ANOVA\n",
        "f_statistic, p_value = f_oneway(group1, group2, group3)\n",
        "\n",
        "# Step 3: Set significance level\n",
        "alpha = 0.05\n",
        "\n",
        "# Step 4: Display results\n",
        "print(f\"F-Statistic: {f_statistic:.2f}\")\n",
        "print(f\"P-Value: {p_value:.4f}\")\n",
        "\n",
        "if p_value < alpha:\n",
        "    print(\"Decision: Reject the null hypothesis → At least one group mean is significantly different.\")\n",
        "else:\n",
        "    print(\"Decision: Fail to reject the null hypothesis → No significant difference between group means.\")\n",
        "\n",
        "# Step 5: Visualize the results using a box plot\n",
        "plt.figure(figsize=(10, 6))\n",
        "plt.boxplot([group1, group2, group3], labels=['Group 1', 'Group 2', 'Group 3'])\n",
        "plt.title('Group Comparisons - One-Way ANOVA')\n",
        "plt.xlabel('Groups')\n",
        "plt.ylabel('Values')\n",
        "plt.grid(axis='y')\n",
        "plt.show()\n",
        "\n"
      ],
      "metadata": {
        "colab": {
          "base_uri": "https://localhost:8080/",
          "height": 675
        },
        "id": "AHbAYS2_s41X",
        "outputId": "7f244db1-0382-4d14-c493-b2f7db2bae89"
      },
      "execution_count": 16,
      "outputs": [
        {
          "output_type": "stream",
          "name": "stdout",
          "text": [
            "F-Statistic: 43.30\n",
            "P-Value: 0.0000\n",
            "Decision: Reject the null hypothesis → At least one group mean is significantly different.\n"
          ]
        },
        {
          "output_type": "stream",
          "name": "stderr",
          "text": [
            "/tmp/ipython-input-16-1529669778.py:27: MatplotlibDeprecationWarning: The 'labels' parameter of boxplot() has been renamed 'tick_labels' since Matplotlib 3.9; support for the old name will be dropped in 3.11.\n",
            "  plt.boxplot([group1, group2, group3], labels=['Group 1', 'Group 2', 'Group 3'])\n"
          ]
        },
        {
          "output_type": "display_data",
          "data": {
            "text/plain": [
              "<Figure size 1000x600 with 1 Axes>"
            ],
            "image/png": "[encoded data removed]"
          },
          "metadata": {}
        }
      ]
    },
    {
      "cell_type": "markdown",
      "source": [
        "Explanation:\n",
        "\n",
        "•\tOne-Way ANOVA: Tests whether the means of three or more independent groups are significantly different.\n",
        "\n",
        "•\tNull Hypothesis (H₀): All group means are equal.\n",
        "\n",
        "•\tAlternative Hypothesis (H₁): At least one group mean is different.\n",
        "\n",
        "•\tBox Plot: Visually compares the distributions and medians of each group.\n",
        "\n",
        "In Short:\n",
        "\n",
        "•\tThis program performs a one-way ANOVA test to compare multiple group means.\n",
        "\n",
        "•\tBox plot visualization makes it easy to see differences between groups.\n",
        "\n",
        "•\tHelps decide if group means are statistically different."
      ],
      "metadata": {
        "id": "UiGCsRcKtGR5"
      }
    },
    {
      "cell_type": "code",
      "source": [
        "'''Q.19 Write a Python function to check the assumptions (normality, independence, and equal variance) for ANOVA'''"
      ],
      "metadata": {
        "id": "LOwZSWv6tZWm"
      },
      "execution_count": null,
      "outputs": []
    },
    {
      "cell_type": "code",
      "source": [
        "import numpy as np\n",
        "from scipy.stats import shapiro, levene\n",
        "\n",
        "def check_anova_assumptions(*groups):\n",
        "    # Normality check using Shapiro-Wilk test\n",
        "    print(\"Normality Check (Shapiro-Wilk Test):\")\n",
        "    for i, group in enumerate(groups, start=1):\n",
        "        stat, p = shapiro(group)\n",
        "        print(f\"Group {i}: W-Statistic = {stat:.4f}, p-value = {p:.4f}\")\n",
        "        if p > 0.05:\n",
        "            print(f\"Group {i}: Data is normally distributed.\\n\")\n",
        "        else:\n",
        "            print(f\"Group {i}: Data is NOT normally distributed.\\n\")\n",
        "\n",
        "    # Homogeneity of variances check using Levene’s Test\n",
        "    stat, p = levene(*groups)\n",
        "    print(f\"Equal Variance Check (Levene’s Test): F-Statistic = {stat:.4f}, p-value = {p:.4f}\")\n",
        "    if p > 0.05:\n",
        "        print(\"Assumption of equal variances is met.\\n\")\n",
        "    else:\n",
        "        print(\"Assumption of equal variances is NOT met.\\n\")\n",
        "\n",
        "    print(\"Note: Independence is usually ensured by proper random sampling in experimental design.\\n\")\n",
        "\n",
        "# Example usage:\n",
        "group1 = np.array([23, 25, 27, 30, 22])\n",
        "group2 = np.array([31, 33, 29, 35, 30])\n",
        "group3 = np.array([40, 42, 38, 41, 39])\n",
        "\n",
        "check_anova_assumptions(group1, group2, group3)\n",
        "\n"
      ],
      "metadata": {
        "colab": {
          "base_uri": "https://localhost:8080/"
        },
        "id": "vclIpHClteYx",
        "outputId": "4212dd44-41a6-4647-d33b-92579eeff3fc"
      },
      "execution_count": 17,
      "outputs": [
        {
          "output_type": "stream",
          "name": "stdout",
          "text": [
            "Normality Check (Shapiro-Wilk Test):\n",
            "Group 1: W-Statistic = 0.9580, p-value = 0.7941\n",
            "Group 1: Data is normally distributed.\n",
            "\n",
            "Group 2: W-Statistic = 0.9570, p-value = 0.7869\n",
            "Group 2: Data is normally distributed.\n",
            "\n",
            "Group 3: W-Statistic = 0.9868, p-value = 0.9672\n",
            "Group 3: Data is normally distributed.\n",
            "\n",
            "Equal Variance Check (Levene’s Test): F-Statistic = 0.8710, p-value = 0.4434\n",
            "Assumption of equal variances is met.\n",
            "\n",
            "Note: Independence is usually ensured by proper random sampling in experimental design.\n",
            "\n"
          ]
        }
      ]
    },
    {
      "cell_type": "markdown",
      "source": [
        "Explanation:\n",
        "\n",
        "•\tNormality:\n",
        "\n",
        "Uses Shapiro-Wilk Test.\n",
        "If p-value > 0.05 → data is normally distributed.\n",
        "\n",
        "•\tEqual Variance (Homogeneity):\n",
        "\n",
        "Uses Levene’s Test.\n",
        "If p-value > 0.05 → variances are equal.\n",
        "\n",
        "•\tIndependence:\n",
        "\n",
        "Assumed based on correct random sampling or experimental design.\n",
        "\n",
        "In Short:\n",
        "\n",
        "•\tThis function helps validate ANOVA assumptions quickly.\n",
        "\n",
        "•\tIt checks normality and equal variance using proper statistical tests.\n",
        "\n",
        "•\tIt reminds that independence must be controlled in study design.\n"
      ],
      "metadata": {
        "id": "as84V-m0tnv-"
      }
    },
    {
      "cell_type": "code",
      "source": [
        "'''Q.20 Perform a two-way ANOVA test using Python to study the interaction between two factors and visualize the results'''"
      ],
      "metadata": {
        "id": "PD2C_kVst3ig"
      },
      "execution_count": null,
      "outputs": []
    },
    {
      "cell_type": "code",
      "source": [
        "import pandas as pd\n",
        "import numpy as np\n",
        "import matplotlib.pyplot as plt\n",
        "import seaborn as sns\n",
        "import statsmodels.api as sm\n",
        "from statsmodels.formula.api import ols\n",
        "\n",
        "# Step 1: Simulate example data\n",
        "np.random.seed(0)\n",
        "data = {\n",
        "    'Factor_A': ['Low', 'Low', 'Low', 'High', 'High', 'High'] * 5,\n",
        "    'Factor_B': ['Type1', 'Type2'] * 15,\n",
        "    'Response': np.random.normal(50, 5, 30)\n",
        "}\n",
        "df = pd.DataFrame(data)\n",
        "\n",
        "# Step 2: Two-Way ANOVA using statsmodels\n",
        "model = ols('Response ~ C(Factor_A) + C(Factor_B) + C(Factor_A):C(Factor_B)', data=df).fit()\n",
        "anova_table = sm.stats.anova_lm(model, typ=2)\n",
        "\n",
        "# Step 3: Display ANOVA table\n",
        "print(\"Two-Way ANOVA Results:\")\n",
        "print(anova_table)\n",
        "\n",
        "# Step 4: Visualization (Interaction Plot)\n",
        "plt.figure(figsize=(8, 6))\n",
        "sns.pointplot(x='Factor_A', y='Response', hue='Factor_B', data=df, capsize=0.1)\n",
        "plt.title('Interaction Plot: Factor A vs Factor B')\n",
        "plt.xlabel('Factor A')\n",
        "plt.ylabel('Response')\n",
        "plt.grid(True)\n",
        "plt.show()\n",
        "\n"
      ],
      "metadata": {
        "colab": {
          "base_uri": "https://localhost:8080/",
          "height": 673
        },
        "id": "eXWl3D2At7xG",
        "outputId": "26984baa-60a8-484f-c3de-ce0aa98bb30e"
      },
      "execution_count": 18,
      "outputs": [
        {
          "output_type": "stream",
          "name": "stdout",
          "text": [
            "Two-Way ANOVA Results:\n",
            "                             sum_sq    df         F    PR(>F)\n",
            "C(Factor_A)               97.056716   1.0  3.490046  0.073048\n",
            "C(Factor_B)              108.021406   1.0  3.884323  0.059472\n",
            "C(Factor_A):C(Factor_B)    0.806159   1.0  0.028989  0.866123\n",
            "Residual                 723.049154  26.0       NaN       NaN\n"
          ]
        },
        {
          "output_type": "display_data",
          "data": {
            "text/plain": [
              "<Figure size 800x600 with 1 Axes>"
            ],
            "image/png": "[encoded data removed]"
          },
          "metadata": {}
        }
      ]
    },
    {
      "cell_type": "markdown",
      "source": [
        "Explanation:\n",
        "\n",
        "•\tTwo-Way ANOVA Model:\n",
        "\n",
        "Response ~ C(Factor_A) + C(Factor_B) + C(Factor_A):C(Factor_B)\n",
        "This includes both main effects and interaction effects.\n",
        "\n",
        "•\tANOVA Table Output:\n",
        "\n",
        "Main effects: Influence of each factor independently.\n",
        "\n",
        "Interaction effect: Whether the effect of one factor depends on the level of the other factor.\n",
        "\n",
        "•\tVisualization:\n",
        "\n",
        "Interaction Plot shows how the two factors influence the response variable together.\n",
        "\n",
        "If lines are not parallel, this indicates an interaction effect.\n",
        "\n",
        "In Short:\n",
        "\n",
        "•\tThis program performs a two-way ANOVA using Python.\n",
        "\n",
        "•\tIt checks for main and interaction effects.\n",
        "\n",
        "•\tIt visualizes the interaction between two factors using a point plot.\n"
      ],
      "metadata": {
        "id": "eFvLRSyuuCGN"
      }
    },
    {
      "cell_type": "code",
      "source": [
        "'''Q.21 Write a Python program to visualize the F-distribution and discuss its use in hypothesis testing'''"
      ],
      "metadata": {
        "id": "_xwYrQ9BuVi5"
      },
      "execution_count": null,
      "outputs": []
    },
    {
      "cell_type": "code",
      "source": [
        "import numpy as np\n",
        "import matplotlib.pyplot as plt\n",
        "from scipy.stats import f\n",
        "\n",
        "# Step 1: Define F-distribution parameters\n",
        "dfn = 5  # Degrees of freedom numerator\n",
        "dfd = 20  # Degrees of freedom denominator\n",
        "x = np.linspace(0, 5, 1000)  # F-distribution values\n",
        "\n",
        "# Step 2: Calculate the PDF of the F-distribution\n",
        "y = f.pdf(x, dfn, dfd)\n",
        "\n",
        "# Step 3: Plot the F-distribution\n",
        "plt.figure(figsize=(10, 6))\n",
        "plt.plot(x, y, 'b-', lw=2, label=f'F-distribution (dfn={dfn}, dfd={dfd})')\n",
        "\n",
        "# Shade the critical region (example: alpha = 0.05, right tail)\n",
        "alpha = 0.05\n",
        "critical_value = f.ppf(1 - alpha, dfn, dfd)\n",
        "plt.axvline(x=critical_value, color='red', linestyle='--', label=f'Critical Value = {critical_value:.2f}')\n",
        "plt.fill_between(x, y, where=(x >= critical_value), color='red', alpha=0.3, label='Rejection Region (α = 0.05)')\n",
        "\n",
        "# Plot settings\n",
        "plt.title('F-Distribution with Rejection Region')\n",
        "plt.xlabel('F-Value')\n",
        "plt.ylabel('Probability Density')\n",
        "plt.legend()\n",
        "plt.grid(True)\n",
        "plt.show()\n"
      ],
      "metadata": {
        "colab": {
          "base_uri": "https://localhost:8080/",
          "height": 564
        },
        "id": "zXFD-lRFuajm",
        "outputId": "d588819a-1a3a-4c88-877d-9f9e9a788988"
      },
      "execution_count": 19,
      "outputs": [
        {
          "output_type": "display_data",
          "data": {
            "text/plain": [
              "<Figure size 1000x600 with 1 Axes>"
            ],
            "image/png": "[encoded data removed]"
          },
          "metadata": {}
        }
      ]
    },
    {
      "cell_type": "markdown",
      "source": [
        "Discussion: Use of F-Distribution in Hypothesis Testing\n",
        "\n",
        "What is the F-distribution?\n",
        "\n",
        "•\tIt is a positively skewed distribution used to compare variances.\n",
        "\n",
        "•\tDefined by two degrees of freedom: numerator (dfn) and denominator (dfd).\n",
        "\n",
        "When is it used?\n",
        "\n",
        "•\tIn ANOVA (Analysis of Variance) to test whether group means are significantly different.\n",
        "\n",
        "•\tIn F-tests to compare variances of two populations.\n",
        "•\tIn regression analysis to test the overall significance of a model.\n",
        "\n",
        "Key Points:\n",
        "\n",
        "•\tCritical region is always in the right tail (F-values are ≥ 0).\n",
        "\n",
        "•\tThe shape of the distribution changes based on the degrees of freedom.\n",
        "\n",
        "•\tIf the calculated F-value exceeds the critical value, we reject the null hypothesis.\n",
        "\n",
        "In Short:\n",
        "\n",
        "This Python program:\n",
        "\n",
        "•\tVisualizes the F-distribution.\n",
        "\n",
        "•\tShows the critical region for hypothesis testing.\n",
        "\n",
        "•\tHelps understand the importance of F-tests in comparing group variances and analyzing models.\n"
      ],
      "metadata": {
        "id": "kASiIZhBuijF"
      }
    },
    {
      "cell_type": "code",
      "source": [
        "'''Q.22 Perform a one-way ANOVA test in Python and visualize the results with boxplots to compare group means'''"
      ],
      "metadata": {
        "id": "T1gDVpXLu84d"
      },
      "execution_count": null,
      "outputs": []
    },
    {
      "cell_type": "code",
      "source": [
        "import numpy as np\n",
        "import matplotlib.pyplot as plt\n",
        "import seaborn as sns\n",
        "from scipy.stats import f_oneway\n",
        "\n",
        "# Step 1: Create sample data for three groups\n",
        "group1 = np.array([23, 25, 27, 30, 22, 24, 26])\n",
        "group2 = np.array([31, 33, 29, 35, 30, 34, 32])\n",
        "group3 = np.array([40, 42, 38, 41, 39, 43, 37])\n",
        "\n",
        "# Step 2: Perform One-Way ANOVA\n",
        "f_statistic, p_value = f_oneway(group1, group2, group3)\n",
        "\n",
        "# Step 3: Display ANOVA results\n",
        "print(f\"F-Statistic: {f_statistic:.2f}\")\n",
        "print(f\"P-Value: {p_value:.4f}\")\n",
        "\n",
        "alpha = 0.05\n",
        "if p_value < alpha:\n",
        "    print(\"Decision: Reject the null hypothesis → At least one group mean is significantly different.\")\n",
        "else:\n",
        "    print(\"Decision: Fail to reject the null hypothesis → No significant difference between group means.\")\n",
        "\n",
        "# Step 4: Prepare data for boxplot\n",
        "import pandas as pd\n",
        "\n",
        "data = {\n",
        "    'Values': np.concatenate([group1, group2, group3]),\n",
        "    'Group': ['Group 1'] * len(group1) + ['Group 2'] * len(group2) + ['Group 3'] * len(group3)\n",
        "}\n",
        "df = pd.DataFrame(data)\n",
        "\n",
        "# Step 5: Visualize the groups using boxplots\n",
        "plt.figure(figsize=(10, 6))\n",
        "sns.boxplot(x='Group', y='Values', data=df, palette='Set2')\n",
        "plt.title('One-Way ANOVA: Group Comparisons')\n",
        "plt.xlabel('Groups')\n",
        "plt.ylabel('Values')\n",
        "plt.grid(axis='y')\n",
        "plt.show()\n"
      ],
      "metadata": {
        "colab": {
          "base_uri": "https://localhost:8080/",
          "height": 709
        },
        "id": "gv_J_aJyvB6M",
        "outputId": "d059216d-9f01-4387-ea5f-cc2eec444ea8"
      },
      "execution_count": 20,
      "outputs": [
        {
          "output_type": "stream",
          "name": "stdout",
          "text": [
            "F-Statistic: 68.77\n",
            "P-Value: 0.0000\n",
            "Decision: Reject the null hypothesis → At least one group mean is significantly different.\n"
          ]
        },
        {
          "output_type": "stream",
          "name": "stderr",
          "text": [
            "/tmp/ipython-input-20-2238311795.py:35: FutureWarning: \n",
            "\n",
            "Passing `palette` without assigning `hue` is deprecated and will be removed in v0.14.0. Assign the `x` variable to `hue` and set `legend=False` for the same effect.\n",
            "\n",
            "  sns.boxplot(x='Group', y='Values', data=df, palette='Set2')\n"
          ]
        },
        {
          "output_type": "display_data",
          "data": {
            "text/plain": [
              "<Figure size 1000x600 with 1 Axes>"
            ],
            "image/png": "[encoded data removed]"
          },
          "metadata": {}
        }
      ]
    },
    {
      "cell_type": "markdown",
      "source": [
        "Explanation:\n",
        "\n",
        "One-Way ANOVA:\n",
        "\n",
        "•\tPurpose: Compares the means of three or more independent groups.\n",
        "\n",
        "•\tNull Hypothesis (H₀): All group means are equal.\n",
        "\n",
        "•\tAlternative Hypothesis (H₁): At least one group mean is different.\n",
        "\n",
        "Boxplot Visualization:\n",
        "\n",
        "•\tShows the distribution, median, and variability of each group.\n",
        "\n",
        "•\tHelps to visually compare differences between groups.\n",
        "\n",
        "In Short:\n",
        "\n",
        "This Python program:\n",
        "\n",
        "•\tPerforms a one-way ANOVA test.\n",
        "\n",
        "•\tCompares group means statistically.\n",
        "\n",
        "•\tVisualizes the groups with a boxplot for easy comparison.\n"
      ],
      "metadata": {
        "id": "pAXgQ0QwvH2P"
      }
    },
    {
      "cell_type": "code",
      "source": [
        "'''Q.23 Simulate random data from a normal distribution, then perform hypothesis testing to evaluate the means'''"
      ],
      "metadata": {
        "id": "TP33ZaYzvYJp"
      },
      "execution_count": null,
      "outputs": []
    },
    {
      "cell_type": "code",
      "source": [
        "import numpy as np\n",
        "from scipy.stats import ttest_1samp\n",
        "import matplotlib.pyplot as plt\n",
        "\n",
        "# Step 1: Simulate random data from a normal distribution\n",
        "np.random.seed(0)\n",
        "sample_size = 50\n",
        "population_mean = 100  # Known or claimed population mean\n",
        "sample_data = np.random.normal(loc=102, scale=10, size=sample_size)  # Simulated data\n",
        "\n",
        "# Step 2: Perform One-Sample T-Test\n",
        "t_statistic, p_value = ttest_1samp(sample_data, population_mean)\n",
        "\n",
        "# Step 3: Display Results\n",
        "print(f\"Sample Mean: {np.mean(sample_data):.2f}\")\n",
        "print(f\"T-Statistic: {t_statistic:.2f}\")\n",
        "print(f\"P-Value: {p_value:.4f}\")\n",
        "\n",
        "alpha = 0.05\n",
        "if p_value < alpha:\n",
        "    print(\"Decision: Reject the null hypothesis → Sample mean is significantly different from population mean.\")\n",
        "else:\n",
        "    print(\"Decision: Fail to reject the null hypothesis → No significant difference.\")\n",
        "\n",
        "# Step 4: Visualize the Sample Distribution\n",
        "plt.figure(figsize=(10, 6))\n",
        "plt.hist(sample_data, bins=10, color='skyblue', edgecolor='black', alpha=0.7)\n",
        "plt.axvline(np.mean(sample_data), color='red', linestyle='dashed', linewidth=2, label='Sample Mean')\n",
        "plt.axvline(population_mean, color='green', linestyle='dashed', linewidth=2, label='Population Mean')\n",
        "plt.title('Simulated Normal Distribution of Sample Data')\n",
        "plt.xlabel('Values')\n",
        "plt.ylabel('Frequency')\n",
        "plt.legend()\n",
        "plt.grid(True)\n",
        "plt.show()\n"
      ],
      "metadata": {
        "colab": {
          "base_uri": "https://localhost:8080/",
          "height": 637
        },
        "id": "qDlVT_IpvdYF",
        "outputId": "39b2c7df-cc94-4a8b-d338-83a0906ac212"
      },
      "execution_count": 21,
      "outputs": [
        {
          "output_type": "stream",
          "name": "stdout",
          "text": [
            "Sample Mean: 103.41\n",
            "T-Statistic: 2.12\n",
            "P-Value: 0.0393\n",
            "Decision: Reject the null hypothesis → Sample mean is significantly different from population mean.\n"
          ]
        },
        {
          "output_type": "display_data",
          "data": {
            "text/plain": [
              "<Figure size 1000x600 with 1 Axes>"
            ],
            "image/png": "[encoded data removed]"
          },
          "metadata": {}
        }
      ]
    },
    {
      "cell_type": "markdown",
      "source": [
        "Explanation:\n",
        "\n",
        "Steps:\n",
        "\n",
        "•\tSimulate Data: Generated from a normal distribution (mean = 102, std dev = 10).\n",
        "\n",
        "•\tHypothesis Test: One-sample t-test compares the sample mean to the known population mean (100).\n",
        "\n",
        "•\tDecision: Based on the p-value and significance level (α = 0.05).\n",
        "\n",
        "Key Concepts:\n",
        "\n",
        "•\tNull Hypothesis (H₀): Sample mean = Population mean.\n",
        "\n",
        "•\tAlternative Hypothesis (H₁): Sample mean ≠ Population mean.\n",
        "\n",
        "•\tT-test: Used when population standard deviation is unknown.\n",
        "\n",
        "In Short:\n",
        "\n",
        "This Python program:\n",
        "\n",
        "•\tSimulates random normal data.\n",
        "\n",
        "•\tPerforms a t-test to evaluate sample mean.\n",
        "\n",
        "•\tVisualizes the sample distribution with key mean lines.\n"
      ],
      "metadata": {
        "id": "N-5te1elvkGs"
      }
    },
    {
      "cell_type": "code",
      "source": [
        "'''Q.24 Perform a hypothesis test for population variance using a Chi-square distribution and interpret the results'''"
      ],
      "metadata": {
        "id": "Okidgo4Ivzp-"
      },
      "execution_count": null,
      "outputs": []
    },
    {
      "cell_type": "code",
      "source": [
        "import numpy as np\n",
        "from scipy.stats import chi2\n",
        "\n",
        "# Step 1: Sample Data\n",
        "np.random.seed(0)\n",
        "sample_data = np.random.normal(loc=50, scale=5, size=30)  # Simulated data\n",
        "sample_size = len(sample_data)\n",
        "sample_variance = np.var(sample_data, ddof=1)\n",
        "\n",
        "# Step 2: Known (Claimed) Population Variance\n",
        "claimed_variance = 25  # Example: population variance (σ² = 5²)\n",
        "\n",
        "# Step 3: Calculate Chi-square Test Statistic\n",
        "chi_square_stat = (sample_size - 1) * sample_variance / claimed_variance\n",
        "\n",
        "# Step 4: Find critical Chi-square values\n",
        "alpha = 0.05\n",
        "df = sample_size - 1\n",
        "chi2_critical_low = chi2.ppf(alpha / 2, df)\n",
        "chi2_critical_high = chi2.ppf(1 - alpha / 2, df)\n",
        "\n",
        "# Step 5: Display results\n",
        "print(f\"Sample Variance: {sample_variance:.2f}\")\n",
        "print(f\"Chi-square Statistic: {chi_square_stat:.2f}\")\n",
        "print(f\"Critical Chi-square Range: [{chi2_critical_low:.2f}, {chi2_critical_high:.2f}]\")\n",
        "\n",
        "if chi_square_stat < chi2_critical_low or chi_square_stat > chi2_critical_high:\n",
        "    print(\"Decision: Reject the null hypothesis → Variance is significantly different.\")\n",
        "else:\n",
        "    print(\"Decision: Fail to reject the null hypothesis → No significant difference in variance.\")\n"
      ],
      "metadata": {
        "colab": {
          "base_uri": "https://localhost:8080/"
        },
        "id": "hWWOUddPv4uP",
        "outputId": "43b8d92c-7058-4cf4-dd43-10f1d71aad82"
      },
      "execution_count": 22,
      "outputs": [
        {
          "output_type": "stream",
          "name": "stdout",
          "text": [
            "Sample Variance: 30.27\n",
            "Chi-square Statistic: 35.11\n",
            "Critical Chi-square Range: [16.05, 45.72]\n",
            "Decision: Fail to reject the null hypothesis → No significant difference in variance.\n"
          ]
        }
      ]
    },
    {
      "cell_type": "markdown",
      "source": [
        "Explanation:\n",
        "\n",
        "Hypotheses:\n",
        "\n",
        "•\tNull Hypothesis (H₀): The population variance is equal to the claimed variance.\n",
        "\n",
        "•\tAlternative Hypothesis (H₁): The population variance is different from the claimed variance.\n",
        "\n",
        "Chi-square Test Formula:\n",
        "\n",
        " X^2=(n-1)*s^2/sigma^2\n",
        "\n",
        "Where:\n",
        "\n",
        "•\tn = sample size\n",
        "\n",
        "•\ts2s^2 = sample variance\n",
        "\n",
        "•\tσ2\\sigma^2 = claimed population variance\n",
        "\n",
        "Decision Rule:\n",
        "\n",
        "•\tIf Chi-square statistic falls outside the critical range, reject H₀.\n",
        "\n",
        "In Short:\n",
        "\n",
        "This Python program:\n",
        "\n",
        "•\tTests if sample variance differs significantly from the claimed population variance.\n",
        "\n",
        "•\tUses the Chi-square distribution for variance testing.\n",
        "\n",
        "•\tProvides a clear decision based on the critical region.\n"
      ],
      "metadata": {
        "id": "eobzHsoGv-g7"
      }
    },
    {
      "cell_type": "code",
      "source": [
        "'''Q.25 Write a Python script to perform a Z-test for comparing proportions between two datasets or groups'''"
      ],
      "metadata": {
        "id": "O2VYmFTEykvH"
      },
      "execution_count": null,
      "outputs": []
    },
    {
      "cell_type": "code",
      "source": [
        "import numpy as np\n",
        "from statsmodels.stats.proportion import proportions_ztest\n",
        "\n",
        "# Step 1: Define the success counts and sample sizes\n",
        "# Example:\n",
        "# Group 1: 40 successes out of 100 trials\n",
        "# Group 2: 30 successes out of 90 trials\n",
        "\n",
        "success_counts = np.array([40, 30])\n",
        "sample_sizes = np.array([100, 90])\n",
        "\n",
        "# Step 2: Perform the two-proportion Z-test\n",
        "z_stat, p_value = proportions_ztest(success_counts, sample_sizes)\n",
        "\n",
        "# Step 3: Display results\n",
        "print(f\"Z-Statistic: {z_stat:.2f}\")\n",
        "print(f\"P-Value: {p_value:.4f}\")\n",
        "\n",
        "# Step 4: Decision based on significance level\n",
        "alpha = 0.05\n",
        "if p_value < alpha:\n",
        "    print(\"Decision: Reject the null hypothesis → Proportions are significantly different.\")\n",
        "else:\n",
        "    print(\"Decision: Fail to reject the null hypothesis → No significant difference between proportions.\")\n"
      ],
      "metadata": {
        "colab": {
          "base_uri": "https://localhost:8080/"
        },
        "id": "-mBvMwSHyuaK",
        "outputId": "a41079b2-eca4-431a-e342-674e92ee5719"
      },
      "execution_count": 23,
      "outputs": [
        {
          "output_type": "stream",
          "name": "stdout",
          "text": [
            "Z-Statistic: 0.95\n",
            "P-Value: 0.3415\n",
            "Decision: Fail to reject the null hypothesis → No significant difference between proportions.\n"
          ]
        }
      ]
    },
    {
      "cell_type": "markdown",
      "source": [
        "Explanation:\n",
        "\n",
        "Z-Test for Proportions:\n",
        "\n",
        "•\tUsed for: Comparing the proportions of successes in two independent groups.\n",
        "\n",
        "•\tNull Hypothesis (H₀): The two proportions are equal.\n",
        "\n",
        "•\tAlternative Hypothesis (H₁): The two proportions are not equal.\n",
        "\n",
        "Input:\n",
        "\n",
        "•\tsuccess_counts: Number of successes in each group.\n",
        "\n",
        "•\tsample_sizes: Total number of observations in each group.\n",
        "\n",
        "Output:\n",
        "\n",
        "•\tZ-statistic: Measures the difference between proportions.\n",
        "\n",
        "•\tP-value: Determines if the difference is statistically significant.\n",
        "\n",
        "In Short:\n",
        "\n",
        "This Python script:\n",
        "\n",
        "•\tCompares two proportions using a Z-test.\n",
        "\n",
        "•\tHelps decide if there is a significant difference between the success rates of two groups.\n"
      ],
      "metadata": {
        "id": "CXuhzebXyz-Y"
      }
    },
    {
      "cell_type": "code",
      "source": [
        "'''Q.26 Implement an F-test for comparing the variances of two datasets, then interpret and visualize the results'''"
      ],
      "metadata": {
        "id": "Lu3hoUcozIqX"
      },
      "execution_count": null,
      "outputs": []
    },
    {
      "cell_type": "code",
      "source": [
        "import numpy as np\n",
        "import matplotlib.pyplot as plt\n",
        "from scipy.stats import f\n",
        "\n",
        "# Step 1: Simulate two datasets\n",
        "np.random.seed(0)\n",
        "group1 = np.random.normal(loc=50, scale=5, size=30)\n",
        "group2 = np.random.normal(loc=50, scale=8, size=30)\n",
        "\n",
        "# Step 2: Calculate variances\n",
        "var1 = np.var(group1, ddof=1)\n",
        "var2 = np.var(group2, ddof=1)\n",
        "\n",
        "# Step 3: Calculate F-statistic\n",
        "if var1 > var2:\n",
        "    F_statistic = var1 / var2\n",
        "    dfn = len(group1) - 1  # degrees of freedom numerator\n",
        "    dfd = len(group2) - 1  # degrees of freedom denominator\n",
        "else:\n",
        "    F_statistic = var2 / var1\n",
        "    dfn = len(group2) - 1\n",
        "    dfd = len(group1) - 1\n",
        "\n",
        "# Step 4: Critical F-value for alpha = 0.05 (two-tailed)\n",
        "alpha = 0.05\n",
        "F_critical = f.ppf(1 - alpha / 2, dfn, dfd)\n",
        "\n",
        "# Step 5: Display results\n",
        "print(f\"Variance of Group 1: {var1:.2f}\")\n",
        "print(f\"Variance of Group 2: {var2:.2f}\")\n",
        "print(f\"F-Statistic: {F_statistic:.2f}\")\n",
        "print(f\"Critical F-Value: {F_critical:.2f}\")\n",
        "\n",
        "if F_statistic > F_critical:\n",
        "    print(\"Decision: Reject the null hypothesis → Variances are significantly different.\")\n",
        "else:\n",
        "    print(\"Decision: Fail to reject the null hypothesis → No significant difference in variances.\")\n",
        "\n",
        "# Step 6: Visualization\n",
        "x = np.linspace(0, 5, 1000)\n",
        "y = f.pdf(x, dfn, dfd)\n",
        "\n",
        "plt.figure(figsize=(10, 6))\n",
        "plt.plot(x, y, 'b-', lw=2, label='F-distribution')\n",
        "\n",
        "# Rejection region\n",
        "plt.axvline(F_critical, color='red', linestyle='--', label=f'Critical F-value = {F_critical:.2f}')\n",
        "plt.fill_between(x, y, where=(x >= F_critical), color='red', alpha=0.3, label='Rejection Region')\n",
        "\n",
        "# Observed F-statistic\n",
        "plt.axvline(F_statistic, color='green', linestyle='--', label=f'Observed F = {F_statistic:.2f}')\n",
        "\n",
        "plt.title('F-Test for Comparing Variances')\n",
        "plt.xlabel('F-Value')\n",
        "plt.ylabel('Probability Density')\n",
        "plt.legend()\n",
        "plt.grid(True)\n",
        "plt.show()\n"
      ],
      "metadata": {
        "colab": {
          "base_uri": "https://localhost:8080/",
          "height": 655
        },
        "id": "jF-kUApizOHu",
        "outputId": "00dbc965-0fdf-4c65-b589-4846a45a7fe5"
      },
      "execution_count": 24,
      "outputs": [
        {
          "output_type": "stream",
          "name": "stdout",
          "text": [
            "Variance of Group 1: 30.27\n",
            "Variance of Group 2: 53.49\n",
            "F-Statistic: 1.77\n",
            "Critical F-Value: 2.10\n",
            "Decision: Fail to reject the null hypothesis → No significant difference in variances.\n"
          ]
        },
        {
          "output_type": "display_data",
          "data": {
            "text/plain": [
              "<Figure size 1000x600 with 1 Axes>"
            ],
            "image/png": "[encoded data removed]"
          },
          "metadata": {}
        }
      ]
    },
    {
      "cell_type": "markdown",
      "source": [
        "Explanation:\n",
        "\n",
        "F-Test Concept:\n",
        "\n",
        "•\tNull Hypothesis (H₀): Variances are equal.\n",
        "\n",
        "•\tAlternative Hypothesis (H₁): Variances are different.\n",
        "\n",
        "Key Steps:\n",
        "\n",
        "•\tCalculate sample variances.\n",
        "\n",
        "•\tCompute the F-statistic:\n",
        "\n",
        "F=larger variancesmaller varianceF = \\frac{\\text{larger variance}}{\\text{smaller variance}}\n",
        "\n",
        "•\tCompare the F-statistic to the critical F-value.\n",
        "\n",
        "•\tVisualize the F-distribution, critical region, and observed F-statistic.\n",
        "\n",
        "In Short:\n",
        "\n",
        "This Python program:\n",
        "\n",
        "•\tPerforms an F-test to compare variances.\n",
        "\n",
        "•\tInterprets the results based on the F-distribution.\n",
        "\n",
        "•\tVisualizes the rejection region and the observed F-statistic on the F-distribution curve.\n",
        "\n"
      ],
      "metadata": {
        "id": "Vme0OspCzVi2"
      }
    },
    {
      "cell_type": "code",
      "source": [
        "'''Q.27 Perform a Chi-square test for goodness of fit with simulated data and analyze the results.'''"
      ],
      "metadata": {
        "id": "_A5D3QpOzmEi"
      },
      "execution_count": null,
      "outputs": []
    },
    {
      "cell_type": "code",
      "source": [
        "import numpy as np\n",
        "from scipy.stats import chisquare\n",
        "import matplotlib.pyplot as plt\n",
        "\n",
        "# Step 1: Simulate observed data\n",
        "# Example: Rolling a die 60 times\n",
        "np.random.seed(0)\n",
        "observed = np.array([8, 10, 9, 12, 11, 10])  # Frequencies for die faces 1 to 6\n",
        "\n",
        "# Step 2: Define expected frequencies (for a fair die)\n",
        "expected = np.array([10, 10, 10, 10, 10, 10])  # Uniform distribution\n",
        "\n",
        "# Step 3: Perform Chi-square goodness-of-fit test\n",
        "chi2_stat, p_value = chisquare(f_obs=observed, f_exp=expected)\n",
        "\n",
        "# Step 4: Display results\n",
        "print(f\"Observed Frequencies: {observed}\")\n",
        "print(f\"Expected Frequencies: {expected}\")\n",
        "print(f\"Chi-square Statistic: {chi2_stat:.2f}\")\n",
        "print(f\"P-Value: {p_value:.4f}\")\n",
        "\n",
        "alpha = 0.05\n",
        "if p_value < alpha:\n",
        "    print(\"Decision: Reject the null hypothesis → Observed data does not fit the expected distribution.\")\n",
        "else:\n",
        "    print(\"Decision: Fail to reject the null hypothesis → No significant difference between observed and expected.\")\n",
        "\n",
        "# Step 5: Visualization\n",
        "labels = ['Face 1', 'Face 2', 'Face 3', 'Face 4', 'Face 5', 'Face 6']\n",
        "x = np.arange(len(labels))\n",
        "width = 0.35\n",
        "\n",
        "plt.figure(figsize=(10, 6))\n",
        "plt.bar(x - width/2, observed, width, label='Observed', color='skyblue')\n",
        "plt.bar(x + width/2, expected, width, label='Expected', color='orange')\n",
        "plt.xlabel('Die Faces')\n",
        "plt.ylabel('Frequency')\n",
        "plt.title('Chi-square Goodness-of-Fit: Observed vs Expected Frequencies')\n",
        "plt.xticks(x, labels)\n",
        "plt.legend()\n",
        "plt.grid(axis='y')\n",
        "plt.show()\n"
      ],
      "metadata": {
        "colab": {
          "base_uri": "https://localhost:8080/",
          "height": 655
        },
        "id": "_Tjhspd5zywo",
        "outputId": "a3e837de-8112-4a58-ee1f-4ff83400159b"
      },
      "execution_count": 25,
      "outputs": [
        {
          "output_type": "stream",
          "name": "stdout",
          "text": [
            "Observed Frequencies: [ 8 10  9 12 11 10]\n",
            "Expected Frequencies: [10 10 10 10 10 10]\n",
            "Chi-square Statistic: 1.00\n",
            "P-Value: 0.9626\n",
            "Decision: Fail to reject the null hypothesis → No significant difference between observed and expected.\n"
          ]
        },
        {
          "output_type": "display_data",
          "data": {
            "text/plain": [
              "<Figure size 1000x600 with 1 Axes>"
            ],
            "image/png": "[encoded data removed]"
          },
          "metadata": {}
        }
      ]
    },
    {
      "cell_type": "markdown",
      "source": [
        "Explanation:\n",
        "\n",
        "Chi-square Goodness-of-Fit Test:\n",
        "\n",
        "•\tNull Hypothesis (H₀): The observed frequencies follow the expected distribution.\n",
        "\n",
        "•\tAlternative Hypothesis (H₁): The observed frequencies do not follow the expected distribution.\n",
        "\n",
        "Decision Rule:\n",
        "\n",
        "•\tIf p-value < 0.05, reject the null hypothesis → the observed data significantly differs from the expected.\n",
        "\n",
        "Key Features:\n",
        "\n",
        "•\tSimulated data: Rolling a die to generate observed frequencies.\n",
        "\n",
        "•\tExpected frequencies: Assuming a fair die (uniform distribution).\n",
        "\n",
        "•\tVisualization: Side-by-side bars for observed and expected frequencies to clearly compare.\n",
        "\n",
        "In Short:\n",
        "\n",
        "This Python program:\n",
        "\n",
        "•\tSimulates and analyzes goodness-of-fit using the Chi-square test.\n",
        "\n",
        "•\tHelps determine if observed data matches expected distribution.\n",
        "\n",
        "•\tIncludes a visual comparison of observed and expected results.\n"
      ],
      "metadata": {
        "id": "pKPg6Qyrz4GM"
      }
    }
  ]
}